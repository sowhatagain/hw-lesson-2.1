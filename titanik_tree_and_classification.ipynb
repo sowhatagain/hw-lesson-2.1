{
 "cells": [
  {
   "cell_type": "code",
   "execution_count": 1,
   "metadata": {
    "collapsed": true
   },
   "outputs": [],
   "source": [
    "import numpy as np\n",
    "import pandas as pd"
   ]
  },
  {
   "cell_type": "code",
   "execution_count": 2,
   "metadata": {
    "collapsed": true
   },
   "outputs": [],
   "source": [
    "from matplotlib import pyplot as plt\n",
    "%matplotlib inline\n",
    "import seaborn as sns\n",
    "import sklearn as sk\n",
    "from sklearn.preprocessing import LabelEncoder\n",
    "\n",
    "%config InlineBackend.figure_format = 'retina'\n",
    "from pylab import rcParams\n",
    "rcParams['figure.figsize'] = (9, 5)"
   ]
  },
  {
   "cell_type": "markdown",
   "metadata": {},
   "source": [
    "# Титаник"
   ]
  },
  {
   "cell_type": "markdown",
   "metadata": {},
   "source": [
    "Задание: предсказать выживших. Загружаем данные Титаника. Читаем, оцениваем данные."
   ]
  },
  {
   "cell_type": "code",
   "execution_count": 3,
   "metadata": {
    "collapsed": true
   },
   "outputs": [],
   "source": [
    "train = pd.read_csv('train.csv')"
   ]
  },
  {
   "cell_type": "code",
   "execution_count": 4,
   "metadata": {
    "collapsed": true
   },
   "outputs": [],
   "source": [
    "test = pd.read_csv('test.csv')"
   ]
  },
  {
   "cell_type": "code",
   "execution_count": 5,
   "metadata": {
    "collapsed": true
   },
   "outputs": [],
   "source": [
    "sample_submission = pd.read_csv('gender_submission.csv')"
   ]
  },
  {
   "cell_type": "code",
   "execution_count": 6,
   "metadata": {},
   "outputs": [
    {
     "data": {
      "text/html": [
       "<div>\n",
       "<style>\n",
       "    .dataframe thead tr:only-child th {\n",
       "        text-align: right;\n",
       "    }\n",
       "\n",
       "    .dataframe thead th {\n",
       "        text-align: left;\n",
       "    }\n",
       "\n",
       "    .dataframe tbody tr th {\n",
       "        vertical-align: top;\n",
       "    }\n",
       "</style>\n",
       "<table border=\"1\" class=\"dataframe\">\n",
       "  <thead>\n",
       "    <tr style=\"text-align: right;\">\n",
       "      <th></th>\n",
       "      <th>PassengerId</th>\n",
       "      <th>Survived</th>\n",
       "      <th>Pclass</th>\n",
       "      <th>Name</th>\n",
       "      <th>Sex</th>\n",
       "      <th>Age</th>\n",
       "      <th>SibSp</th>\n",
       "      <th>Parch</th>\n",
       "      <th>Ticket</th>\n",
       "      <th>Fare</th>\n",
       "      <th>Cabin</th>\n",
       "      <th>Embarked</th>\n",
       "    </tr>\n",
       "  </thead>\n",
       "  <tbody>\n",
       "    <tr>\n",
       "      <th>0</th>\n",
       "      <td>1</td>\n",
       "      <td>0</td>\n",
       "      <td>3</td>\n",
       "      <td>Braund, Mr. Owen Harris</td>\n",
       "      <td>male</td>\n",
       "      <td>22.0</td>\n",
       "      <td>1</td>\n",
       "      <td>0</td>\n",
       "      <td>A/5 21171</td>\n",
       "      <td>7.2500</td>\n",
       "      <td>NaN</td>\n",
       "      <td>S</td>\n",
       "    </tr>\n",
       "    <tr>\n",
       "      <th>1</th>\n",
       "      <td>2</td>\n",
       "      <td>1</td>\n",
       "      <td>1</td>\n",
       "      <td>Cumings, Mrs. John Bradley (Florence Briggs Th...</td>\n",
       "      <td>female</td>\n",
       "      <td>38.0</td>\n",
       "      <td>1</td>\n",
       "      <td>0</td>\n",
       "      <td>PC 17599</td>\n",
       "      <td>71.2833</td>\n",
       "      <td>C85</td>\n",
       "      <td>C</td>\n",
       "    </tr>\n",
       "    <tr>\n",
       "      <th>2</th>\n",
       "      <td>3</td>\n",
       "      <td>1</td>\n",
       "      <td>3</td>\n",
       "      <td>Heikkinen, Miss. Laina</td>\n",
       "      <td>female</td>\n",
       "      <td>26.0</td>\n",
       "      <td>0</td>\n",
       "      <td>0</td>\n",
       "      <td>STON/O2. 3101282</td>\n",
       "      <td>7.9250</td>\n",
       "      <td>NaN</td>\n",
       "      <td>S</td>\n",
       "    </tr>\n",
       "    <tr>\n",
       "      <th>3</th>\n",
       "      <td>4</td>\n",
       "      <td>1</td>\n",
       "      <td>1</td>\n",
       "      <td>Futrelle, Mrs. Jacques Heath (Lily May Peel)</td>\n",
       "      <td>female</td>\n",
       "      <td>35.0</td>\n",
       "      <td>1</td>\n",
       "      <td>0</td>\n",
       "      <td>113803</td>\n",
       "      <td>53.1000</td>\n",
       "      <td>C123</td>\n",
       "      <td>S</td>\n",
       "    </tr>\n",
       "    <tr>\n",
       "      <th>4</th>\n",
       "      <td>5</td>\n",
       "      <td>0</td>\n",
       "      <td>3</td>\n",
       "      <td>Allen, Mr. William Henry</td>\n",
       "      <td>male</td>\n",
       "      <td>35.0</td>\n",
       "      <td>0</td>\n",
       "      <td>0</td>\n",
       "      <td>373450</td>\n",
       "      <td>8.0500</td>\n",
       "      <td>NaN</td>\n",
       "      <td>S</td>\n",
       "    </tr>\n",
       "  </tbody>\n",
       "</table>\n",
       "</div>"
      ],
      "text/plain": [
       "   PassengerId  Survived  Pclass  \\\n",
       "0            1         0       3   \n",
       "1            2         1       1   \n",
       "2            3         1       3   \n",
       "3            4         1       1   \n",
       "4            5         0       3   \n",
       "\n",
       "                                                Name     Sex   Age  SibSp  \\\n",
       "0                            Braund, Mr. Owen Harris    male  22.0      1   \n",
       "1  Cumings, Mrs. John Bradley (Florence Briggs Th...  female  38.0      1   \n",
       "2                             Heikkinen, Miss. Laina  female  26.0      0   \n",
       "3       Futrelle, Mrs. Jacques Heath (Lily May Peel)  female  35.0      1   \n",
       "4                           Allen, Mr. William Henry    male  35.0      0   \n",
       "\n",
       "   Parch            Ticket     Fare Cabin Embarked  \n",
       "0      0         A/5 21171   7.2500   NaN        S  \n",
       "1      0          PC 17599  71.2833   C85        C  \n",
       "2      0  STON/O2. 3101282   7.9250   NaN        S  \n",
       "3      0            113803  53.1000  C123        S  \n",
       "4      0            373450   8.0500   NaN        S  "
      ]
     },
     "execution_count": 6,
     "metadata": {},
     "output_type": "execute_result"
    }
   ],
   "source": [
    "train.head()"
   ]
  },
  {
   "cell_type": "code",
   "execution_count": 7,
   "metadata": {},
   "outputs": [
    {
     "data": {
      "text/html": [
       "<div>\n",
       "<style>\n",
       "    .dataframe thead tr:only-child th {\n",
       "        text-align: right;\n",
       "    }\n",
       "\n",
       "    .dataframe thead th {\n",
       "        text-align: left;\n",
       "    }\n",
       "\n",
       "    .dataframe tbody tr th {\n",
       "        vertical-align: top;\n",
       "    }\n",
       "</style>\n",
       "<table border=\"1\" class=\"dataframe\">\n",
       "  <thead>\n",
       "    <tr style=\"text-align: right;\">\n",
       "      <th></th>\n",
       "      <th>PassengerId</th>\n",
       "      <th>Pclass</th>\n",
       "      <th>Name</th>\n",
       "      <th>Sex</th>\n",
       "      <th>Age</th>\n",
       "      <th>SibSp</th>\n",
       "      <th>Parch</th>\n",
       "      <th>Ticket</th>\n",
       "      <th>Fare</th>\n",
       "      <th>Cabin</th>\n",
       "      <th>Embarked</th>\n",
       "    </tr>\n",
       "  </thead>\n",
       "  <tbody>\n",
       "    <tr>\n",
       "      <th>0</th>\n",
       "      <td>892</td>\n",
       "      <td>3</td>\n",
       "      <td>Kelly, Mr. James</td>\n",
       "      <td>male</td>\n",
       "      <td>34.5</td>\n",
       "      <td>0</td>\n",
       "      <td>0</td>\n",
       "      <td>330911</td>\n",
       "      <td>7.8292</td>\n",
       "      <td>NaN</td>\n",
       "      <td>Q</td>\n",
       "    </tr>\n",
       "    <tr>\n",
       "      <th>1</th>\n",
       "      <td>893</td>\n",
       "      <td>3</td>\n",
       "      <td>Wilkes, Mrs. James (Ellen Needs)</td>\n",
       "      <td>female</td>\n",
       "      <td>47.0</td>\n",
       "      <td>1</td>\n",
       "      <td>0</td>\n",
       "      <td>363272</td>\n",
       "      <td>7.0000</td>\n",
       "      <td>NaN</td>\n",
       "      <td>S</td>\n",
       "    </tr>\n",
       "    <tr>\n",
       "      <th>2</th>\n",
       "      <td>894</td>\n",
       "      <td>2</td>\n",
       "      <td>Myles, Mr. Thomas Francis</td>\n",
       "      <td>male</td>\n",
       "      <td>62.0</td>\n",
       "      <td>0</td>\n",
       "      <td>0</td>\n",
       "      <td>240276</td>\n",
       "      <td>9.6875</td>\n",
       "      <td>NaN</td>\n",
       "      <td>Q</td>\n",
       "    </tr>\n",
       "    <tr>\n",
       "      <th>3</th>\n",
       "      <td>895</td>\n",
       "      <td>3</td>\n",
       "      <td>Wirz, Mr. Albert</td>\n",
       "      <td>male</td>\n",
       "      <td>27.0</td>\n",
       "      <td>0</td>\n",
       "      <td>0</td>\n",
       "      <td>315154</td>\n",
       "      <td>8.6625</td>\n",
       "      <td>NaN</td>\n",
       "      <td>S</td>\n",
       "    </tr>\n",
       "    <tr>\n",
       "      <th>4</th>\n",
       "      <td>896</td>\n",
       "      <td>3</td>\n",
       "      <td>Hirvonen, Mrs. Alexander (Helga E Lindqvist)</td>\n",
       "      <td>female</td>\n",
       "      <td>22.0</td>\n",
       "      <td>1</td>\n",
       "      <td>1</td>\n",
       "      <td>3101298</td>\n",
       "      <td>12.2875</td>\n",
       "      <td>NaN</td>\n",
       "      <td>S</td>\n",
       "    </tr>\n",
       "  </tbody>\n",
       "</table>\n",
       "</div>"
      ],
      "text/plain": [
       "   PassengerId  Pclass                                          Name     Sex  \\\n",
       "0          892       3                              Kelly, Mr. James    male   \n",
       "1          893       3              Wilkes, Mrs. James (Ellen Needs)  female   \n",
       "2          894       2                     Myles, Mr. Thomas Francis    male   \n",
       "3          895       3                              Wirz, Mr. Albert    male   \n",
       "4          896       3  Hirvonen, Mrs. Alexander (Helga E Lindqvist)  female   \n",
       "\n",
       "    Age  SibSp  Parch   Ticket     Fare Cabin Embarked  \n",
       "0  34.5      0      0   330911   7.8292   NaN        Q  \n",
       "1  47.0      1      0   363272   7.0000   NaN        S  \n",
       "2  62.0      0      0   240276   9.6875   NaN        Q  \n",
       "3  27.0      0      0   315154   8.6625   NaN        S  \n",
       "4  22.0      1      1  3101298  12.2875   NaN        S  "
      ]
     },
     "execution_count": 7,
     "metadata": {},
     "output_type": "execute_result"
    }
   ],
   "source": [
    "test.head()"
   ]
  },
  {
   "cell_type": "code",
   "execution_count": 8,
   "metadata": {},
   "outputs": [
    {
     "data": {
      "text/html": [
       "<div>\n",
       "<style>\n",
       "    .dataframe thead tr:only-child th {\n",
       "        text-align: right;\n",
       "    }\n",
       "\n",
       "    .dataframe thead th {\n",
       "        text-align: left;\n",
       "    }\n",
       "\n",
       "    .dataframe tbody tr th {\n",
       "        vertical-align: top;\n",
       "    }\n",
       "</style>\n",
       "<table border=\"1\" class=\"dataframe\">\n",
       "  <thead>\n",
       "    <tr style=\"text-align: right;\">\n",
       "      <th></th>\n",
       "      <th>PassengerId</th>\n",
       "      <th>Survived</th>\n",
       "    </tr>\n",
       "  </thead>\n",
       "  <tbody>\n",
       "    <tr>\n",
       "      <th>0</th>\n",
       "      <td>892</td>\n",
       "      <td>0</td>\n",
       "    </tr>\n",
       "    <tr>\n",
       "      <th>1</th>\n",
       "      <td>893</td>\n",
       "      <td>1</td>\n",
       "    </tr>\n",
       "    <tr>\n",
       "      <th>2</th>\n",
       "      <td>894</td>\n",
       "      <td>0</td>\n",
       "    </tr>\n",
       "    <tr>\n",
       "      <th>3</th>\n",
       "      <td>895</td>\n",
       "      <td>0</td>\n",
       "    </tr>\n",
       "    <tr>\n",
       "      <th>4</th>\n",
       "      <td>896</td>\n",
       "      <td>1</td>\n",
       "    </tr>\n",
       "  </tbody>\n",
       "</table>\n",
       "</div>"
      ],
      "text/plain": [
       "   PassengerId  Survived\n",
       "0          892         0\n",
       "1          893         1\n",
       "2          894         0\n",
       "3          895         0\n",
       "4          896         1"
      ]
     },
     "execution_count": 8,
     "metadata": {},
     "output_type": "execute_result"
    }
   ],
   "source": [
    "sample_submission.head()"
   ]
  },
  {
   "cell_type": "code",
   "execution_count": 9,
   "metadata": {},
   "outputs": [
    {
     "data": {
      "text/plain": [
       "(891, 12)"
      ]
     },
     "execution_count": 9,
     "metadata": {},
     "output_type": "execute_result"
    }
   ],
   "source": [
    "train.shape # на этой выборке учимся"
   ]
  },
  {
   "cell_type": "code",
   "execution_count": 10,
   "metadata": {},
   "outputs": [
    {
     "data": {
      "text/plain": [
       "(418, 11)"
      ]
     },
     "execution_count": 10,
     "metadata": {},
     "output_type": "execute_result"
    }
   ],
   "source": [
    "test.shape # на этой выборке тестируем"
   ]
  },
  {
   "cell_type": "markdown",
   "metadata": {},
   "source": [
    "# Фичи\n",
    "\n",
    "Работаем с фичами, подбирать оптимальные, придумывать что-то своё."
   ]
  },
  {
   "cell_type": "code",
   "execution_count": 11,
   "metadata": {},
   "outputs": [
    {
     "data": {
      "text/plain": [
       "0    549\n",
       "1    342\n",
       "Name: Survived, dtype: int64"
      ]
     },
     "execution_count": 11,
     "metadata": {},
     "output_type": "execute_result"
    }
   ],
   "source": [
    "y_train = train['Survived'] # сохраняем сотолбец выживших в y_train\n",
    "y_train.value_counts()"
   ]
  },
  {
   "cell_type": "code",
   "execution_count": 12,
   "metadata": {
    "collapsed": true
   },
   "outputs": [],
   "source": [
    "Xtrain = train.drop(['Survived'], axis=1)"
   ]
  },
  {
   "cell_type": "code",
   "execution_count": 13,
   "metadata": {
    "collapsed": true
   },
   "outputs": [],
   "source": [
    "#Xtest = test.drop(['PassengerId'], axis=1)\n",
    "Xtest = test"
   ]
  },
  {
   "cell_type": "code",
   "execution_count": 14,
   "metadata": {
    "collapsed": true
   },
   "outputs": [],
   "source": [
    "Xtrain['is_test'] = False\n",
    "Xtest['is_test'] = True"
   ]
  },
  {
   "cell_type": "code",
   "execution_count": 15,
   "metadata": {},
   "outputs": [
    {
     "data": {
      "text/plain": [
       "array([ True,  True,  True,  True,  True,  True,  True,  True,  True,\n",
       "        True,  True,  True], dtype=bool)"
      ]
     },
     "execution_count": 15,
     "metadata": {},
     "output_type": "execute_result"
    }
   ],
   "source": [
    "Xtest.columns == Xtrain.columns # одинаковое количество колонок"
   ]
  },
  {
   "cell_type": "code",
   "execution_count": 16,
   "metadata": {
    "collapsed": true
   },
   "outputs": [],
   "source": [
    "X = pd.concat([Xtrain, Xtest], axis=0)"
   ]
  },
  {
   "cell_type": "code",
   "execution_count": 17,
   "metadata": {
    "collapsed": true
   },
   "outputs": [],
   "source": [
    "X.index = range(len(X))\n",
    "X.columns = X.columns.str.lower()"
   ]
  },
  {
   "cell_type": "code",
   "execution_count": 18,
   "metadata": {},
   "outputs": [
    {
     "name": "stdout",
     "output_type": "stream",
     "text": [
      "<class 'pandas.core.frame.DataFrame'>\n",
      "RangeIndex: 1309 entries, 0 to 1308\n",
      "Data columns (total 12 columns):\n",
      "passengerid    1309 non-null int64\n",
      "pclass         1309 non-null int64\n",
      "name           1309 non-null object\n",
      "sex            1309 non-null object\n",
      "age            1046 non-null float64\n",
      "sibsp          1309 non-null int64\n",
      "parch          1309 non-null int64\n",
      "ticket         1309 non-null object\n",
      "fare           1308 non-null float64\n",
      "cabin          295 non-null object\n",
      "embarked       1307 non-null object\n",
      "is_test        1309 non-null bool\n",
      "dtypes: bool(1), float64(2), int64(4), object(5)\n",
      "memory usage: 113.8+ KB\n"
     ]
    }
   ],
   "source": [
    "X.info()"
   ]
  },
  {
   "cell_type": "markdown",
   "metadata": {},
   "source": [
    "Разведем категориальные фичи по столбцам, если их больше трех, либо переведем в бинарный вид. \n",
    "Это параметры: Sex, Pclass, Embarked, Parch, SibSP.\n",
    "\n",
    "При этом эти фичи оставляем также в тестовом наборе данных."
   ]
  },
  {
   "cell_type": "code",
   "execution_count": 19,
   "metadata": {},
   "outputs": [
    {
     "data": {
      "text/plain": [
       "False    1307\n",
       "True        2\n",
       "Name: embarked, dtype: int64"
      ]
     },
     "execution_count": 19,
     "metadata": {},
     "output_type": "execute_result"
    }
   ],
   "source": [
    "X.embarked.isnull().value_counts()"
   ]
  },
  {
   "cell_type": "markdown",
   "metadata": {},
   "source": [
    "Неизвестно место отправления у двоих человек"
   ]
  },
  {
   "cell_type": "code",
   "execution_count": 20,
   "metadata": {},
   "outputs": [
    {
     "data": {
      "text/plain": [
       "S    914\n",
       "C    270\n",
       "Q    123\n",
       "Name: embarked, dtype: int64"
      ]
     },
     "execution_count": 20,
     "metadata": {},
     "output_type": "execute_result"
    }
   ],
   "source": [
    "X[X.embarked.isnull() == True]\n",
    "X[X.embarked.isnull()==False]['embarked'].value_counts()"
   ]
  },
  {
   "cell_type": "markdown",
   "metadata": {},
   "source": [
    "Заполним наиболее часто встречающимся значениями embarked"
   ]
  },
  {
   "cell_type": "code",
   "execution_count": 21,
   "metadata": {},
   "outputs": [
    {
     "data": {
      "text/plain": [
       "S    916\n",
       "C    270\n",
       "Q    123\n",
       "Name: embarked, dtype: int64"
      ]
     },
     "execution_count": 21,
     "metadata": {},
     "output_type": "execute_result"
    }
   ],
   "source": [
    "X.embarked.fillna('S', inplace = True)\n",
    "X.embarked.value_counts()"
   ]
  },
  {
   "cell_type": "code",
   "execution_count": 22,
   "metadata": {
    "collapsed": true
   },
   "outputs": [],
   "source": [
    "# passengerid оставила, чтобы соединить правильно обратно две таблицы\n",
    "X_dummies = X[['passengerid','sex','embarked','pclass','parch','sibsp','is_test']]"
   ]
  },
  {
   "cell_type": "code",
   "execution_count": 23,
   "metadata": {},
   "outputs": [
    {
     "data": {
      "text/plain": [
       "0    1002\n",
       "1     170\n",
       "2     113\n",
       "3       8\n",
       "5       6\n",
       "4       6\n",
       "9       2\n",
       "6       2\n",
       "Name: parch, dtype: int64"
      ]
     },
     "execution_count": 23,
     "metadata": {},
     "output_type": "execute_result"
    }
   ],
   "source": [
    "X.parch.value_counts() # Категориальная"
   ]
  },
  {
   "cell_type": "code",
   "execution_count": 24,
   "metadata": {},
   "outputs": [
    {
     "data": {
      "text/plain": [
       "0    891\n",
       "1    319\n",
       "2     42\n",
       "4     22\n",
       "3     20\n",
       "8      9\n",
       "5      6\n",
       "Name: sibsp, dtype: int64"
      ]
     },
     "execution_count": 24,
     "metadata": {},
     "output_type": "execute_result"
    }
   ],
   "source": [
    "X.sibsp.value_counts() #категориальная"
   ]
  },
  {
   "cell_type": "code",
   "execution_count": 25,
   "metadata": {
    "collapsed": true
   },
   "outputs": [],
   "source": [
    "X_dummies = pd.get_dummies(X_dummies, columns=['sex','embarked','pclass','parch','sibsp'])"
   ]
  },
  {
   "cell_type": "code",
   "execution_count": 26,
   "metadata": {},
   "outputs": [
    {
     "data": {
      "text/plain": [
       "Index(['passengerid', 'is_test', 'sex_female', 'sex_male', 'embarked_C',\n",
       "       'embarked_Q', 'embarked_S', 'pclass_1', 'pclass_2', 'pclass_3',\n",
       "       'parch_0', 'parch_1', 'parch_2', 'parch_3', 'parch_4', 'parch_5',\n",
       "       'parch_6', 'parch_9', 'sibsp_0', 'sibsp_1', 'sibsp_2', 'sibsp_3',\n",
       "       'sibsp_4', 'sibsp_5', 'sibsp_8'],\n",
       "      dtype='object')"
      ]
     },
     "execution_count": 26,
     "metadata": {},
     "output_type": "execute_result"
    }
   ],
   "source": [
    "#X_dummies.info()\n",
    "X_dummies.columns"
   ]
  },
  {
   "cell_type": "code",
   "execution_count": 27,
   "metadata": {
    "collapsed": true
   },
   "outputs": [],
   "source": [
    "from sklearn.model_selection import GridSearchCV\n",
    "from sklearn.tree import DecisionTreeClassifier  #импортируем дерево решений"
   ]
  },
  {
   "cell_type": "markdown",
   "metadata": {},
   "source": [
    "Проверим на дереве решений, какие из новых фич dummies влияют на решение, а какие можно отбросить.\n",
    "Готовим Хtest, Ytest, Xtrain."
   ]
  },
  {
   "cell_type": "code",
   "execution_count": 28,
   "metadata": {},
   "outputs": [
    {
     "data": {
      "text/plain": [
       "(891, 23)"
      ]
     },
     "execution_count": 28,
     "metadata": {},
     "output_type": "execute_result"
    }
   ],
   "source": [
    "Xtrain_dm = X_dummies.loc[X_dummies.is_test == False][['sex_female', 'sex_male', 'embarked_C',\n",
    "                                                     'embarked_Q', 'embarked_S', 'pclass_1', 'pclass_2', 'pclass_3',\\\n",
    "                                                     'parch_0', 'parch_1', 'parch_2', 'parch_3', 'parch_4', 'parch_5',\\\n",
    "                                                     'parch_6', 'parch_9', 'sibsp_0', 'sibsp_1', 'sibsp_2', 'sibsp_3',\\\n",
    "                                                     'sibsp_4', 'sibsp_5', 'sibsp_8']]\n",
    "Xtrain_dm.shape\n",
    "#Xtrain_dm.info()"
   ]
  },
  {
   "cell_type": "code",
   "execution_count": 29,
   "metadata": {},
   "outputs": [
    {
     "data": {
      "text/plain": [
       "(891,)"
      ]
     },
     "execution_count": 29,
     "metadata": {},
     "output_type": "execute_result"
    }
   ],
   "source": [
    "Ytrain_dm = y_train\n",
    "Ytrain_dm.shape"
   ]
  },
  {
   "cell_type": "code",
   "execution_count": 30,
   "metadata": {},
   "outputs": [
    {
     "data": {
      "text/plain": [
       "(418, 23)"
      ]
     },
     "execution_count": 30,
     "metadata": {},
     "output_type": "execute_result"
    }
   ],
   "source": [
    "Xtest_dm = X_dummies.loc[X_dummies.is_test == True][['sex_female', 'sex_male', 'embarked_C',\n",
    "                                                     'embarked_Q', 'embarked_S', 'pclass_1', 'pclass_2', 'pclass_3',\\\n",
    "                                                     'parch_0', 'parch_1', 'parch_2', 'parch_3', 'parch_4', 'parch_5',\\\n",
    "                                                     'parch_6', 'parch_9', 'sibsp_0', 'sibsp_1', 'sibsp_2', 'sibsp_3',\\\n",
    "                                                     'sibsp_4', 'sibsp_5', 'sibsp_8']]\n",
    "Xtest_dm.shape"
   ]
  },
  {
   "cell_type": "code",
   "execution_count": 31,
   "metadata": {
    "collapsed": true
   },
   "outputs": [],
   "source": [
    "# посмотрим, на какой глубине наилучшая оценка\n",
    "depths = np.arange(1,15)\n",
    "grid = {'max_depth': depths}\n",
    "gridsearch = GridSearchCV(DecisionTreeClassifier(), grid, scoring='neg_log_loss', cv=5)"
   ]
  },
  {
   "cell_type": "code",
   "execution_count": 32,
   "metadata": {},
   "outputs": [
    {
     "name": "stdout",
     "output_type": "stream",
     "text": [
      "Wall time: 0 ns\n"
     ]
    },
    {
     "data": {
      "text/plain": [
       "GridSearchCV(cv=5, error_score='raise',\n",
       "       estimator=DecisionTreeClassifier(class_weight=None, criterion='gini', max_depth=None,\n",
       "            max_features=None, max_leaf_nodes=None,\n",
       "            min_impurity_decrease=0.0, min_impurity_split=None,\n",
       "            min_samples_leaf=1, min_samples_split=2,\n",
       "            min_weight_fraction_leaf=0.0, presort=False, random_state=None,\n",
       "            splitter='best'),\n",
       "       fit_params=None, iid=True, n_jobs=1,\n",
       "       param_grid={'max_depth': array([ 1,  2,  3,  4,  5,  6,  7,  8,  9, 10, 11, 12, 13, 14])},\n",
       "       pre_dispatch='2*n_jobs', refit=True, return_train_score=True,\n",
       "       scoring='neg_log_loss', verbose=0)"
      ]
     },
     "execution_count": 32,
     "metadata": {},
     "output_type": "execute_result"
    }
   ],
   "source": [
    "%time\n",
    "gridsearch.fit(Xtrain_dm, Ytrain_dm)"
   ]
  },
  {
   "cell_type": "code",
   "execution_count": 33,
   "metadata": {
    "collapsed": true
   },
   "outputs": [],
   "source": [
    "#sorted(gridsearch.grid_scores_, key = lambda x: -x.mean_validation_score)"
   ]
  },
  {
   "cell_type": "code",
   "execution_count": 34,
   "metadata": {},
   "outputs": [
    {
     "data": {
      "text/plain": [
       "{'max_depth': 2}"
      ]
     },
     "execution_count": 34,
     "metadata": {},
     "output_type": "execute_result"
    }
   ],
   "source": [
    "gridsearch.best_params_"
   ]
  },
  {
   "cell_type": "code",
   "execution_count": 35,
   "metadata": {
    "collapsed": true
   },
   "outputs": [],
   "source": [
    "model_dm = DecisionTreeClassifier(max_depth=2)"
   ]
  },
  {
   "cell_type": "code",
   "execution_count": 36,
   "metadata": {},
   "outputs": [
    {
     "data": {
      "text/plain": [
       "DecisionTreeClassifier(class_weight=None, criterion='gini', max_depth=2,\n",
       "            max_features=None, max_leaf_nodes=None,\n",
       "            min_impurity_decrease=0.0, min_impurity_split=None,\n",
       "            min_samples_leaf=1, min_samples_split=2,\n",
       "            min_weight_fraction_leaf=0.0, presort=False, random_state=None,\n",
       "            splitter='best')"
      ]
     },
     "execution_count": 36,
     "metadata": {},
     "output_type": "execute_result"
    }
   ],
   "source": [
    "model_dm.fit(Xtrain_dm, Ytrain_dm)"
   ]
  },
  {
   "cell_type": "code",
   "execution_count": 39,
   "metadata": {},
   "outputs": [
    {
     "data": {
      "text/plain": [
       "array([ 0.75132769,  0.        ,  0.        ,  0.        ,  0.        ,\n",
       "        0.06049892,  0.        ,  0.18817339,  0.        ,  0.        ,\n",
       "        0.        ,  0.        ,  0.        ,  0.        ,  0.        ,\n",
       "        0.        ,  0.        ,  0.        ,  0.        ,  0.        ,\n",
       "        0.        ,  0.        ,  0.        ])"
      ]
     },
     "execution_count": 39,
     "metadata": {},
     "output_type": "execute_result"
    }
   ],
   "source": [
    "model_dm.feature_importances_"
   ]
  },
  {
   "cell_type": "markdown",
   "metadata": {},
   "source": [
    "Будем использовать фичи: sex_female, pclass_1, pclass_3. Остальные столбцы можно удалить."
   ]
  },
  {
   "cell_type": "code",
   "execution_count": 40,
   "metadata": {},
   "outputs": [
    {
     "data": {
      "text/plain": [
       "Index(['sex_female', 'sex_male', 'embarked_C', 'embarked_Q', 'embarked_S',\n",
       "       'pclass_1', 'pclass_2', 'pclass_3', 'parch_0', 'parch_1', 'parch_2',\n",
       "       'parch_3', 'parch_4', 'parch_5', 'parch_6', 'parch_9', 'sibsp_0',\n",
       "       'sibsp_1', 'sibsp_2', 'sibsp_3', 'sibsp_4', 'sibsp_5', 'sibsp_8'],\n",
       "      dtype='object')"
      ]
     },
     "execution_count": 40,
     "metadata": {},
     "output_type": "execute_result"
    }
   ],
   "source": [
    "Xtrain_dm.columns"
   ]
  },
  {
   "cell_type": "code",
   "execution_count": 37,
   "metadata": {
    "collapsed": true
   },
   "outputs": [],
   "source": [
    "X_dummies_final = X_dummies[['passengerid','sex_female','pclass_1','pclass_3']]"
   ]
  },
  {
   "cell_type": "code",
   "execution_count": 38,
   "metadata": {
    "collapsed": true
   },
   "outputs": [],
   "source": [
    "X = pd.merge(X,X_dummies_final, how='inner', left_on='passengerid', right_on='passengerid')"
   ]
  },
  {
   "cell_type": "markdown",
   "metadata": {},
   "source": [
    "# Символьное обозначение ticket\n",
    "\n",
    "Разберемся с билетами. Разделить на:\n",
    "* цифры - 1 слово; \n",
    "* цифры + буквы : 2 слова. \n",
    "\n",
    "Рассмотреть длину слова: если цифры, рассмотреть, что происходит в зависимости от слова в билете."
   ]
  },
  {
   "cell_type": "code",
   "execution_count": 39,
   "metadata": {
    "collapsed": true
   },
   "outputs": [],
   "source": [
    "# проставляем число слов в билете (названии)\n",
    "X['ticket_words_num'] = X.ticket.str.split().str.len()\n",
    "#X['ticket_words_num']"
   ]
  },
  {
   "cell_type": "markdown",
   "metadata": {},
   "source": [
    "В обозначении билета 2 слова: встречаются цифры, цифры и буквенный код. Решаю разделить создать еще одну характеристику в котрой флаг для того, что: \n",
    "* в билете 2 слова (цифровой + буквенный код); \n",
    "* в билете 1 слово (цифровой код)"
   ]
  },
  {
   "cell_type": "code",
   "execution_count": 40,
   "metadata": {
    "collapsed": true
   },
   "outputs": [],
   "source": [
    "#колонка по умолчанию заполним единицами, 1 слово\n",
    "X['ticket_w_or_n'] = 1"
   ]
  },
  {
   "cell_type": "code",
   "execution_count": 41,
   "metadata": {
    "collapsed": true
   },
   "outputs": [],
   "source": [
    "# если 2 слова, то проставим едицицы\n",
    "X['ticket_w_or_n']=X.ticket_w_or_n.where(X.ticket_words_num == 2, 0)\n",
    "#X[['ticket', 'ticket_w_or_n']]"
   ]
  },
  {
   "cell_type": "markdown",
   "metadata": {},
   "source": [
    "# Имена. Name\n",
    "\n",
    "Имена. Вектор полный без NaN, посмотрим, какие слова встречаются среди имен чаще. Есть ли общеупотребимые обращения"
   ]
  },
  {
   "cell_type": "code",
   "execution_count": 42,
   "metadata": {
    "collapsed": true
   },
   "outputs": [],
   "source": [
    "# Уберем из имен все специальные символы\n",
    "from collections import Counter\n",
    "X.name = X.name.apply(lambda x: x.replace(',',''))\n",
    "X.name = X.name.apply(lambda x: x.replace('(',''))\n",
    "X.name = X.name.apply(lambda x: x.replace(')',''))\n",
    "X.name = X.name.apply(lambda x: x.replace('\"',''))\n",
    "X['name_len'] = X.name.apply(lambda x: len(x))\n",
    "# X['name_len'].median() медианное и среднее имена лежат рядом"
   ]
  },
  {
   "cell_type": "code",
   "execution_count": 43,
   "metadata": {},
   "outputs": [
    {
     "data": {
      "text/plain": [
       "[('Mr.', 757),\n",
       " ('Miss.', 260),\n",
       " ('Mrs.', 197),\n",
       " ('William', 87),\n",
       " ('John', 72),\n",
       " ('Master.', 61),\n",
       " ('Henry', 49),\n",
       " ('Charles', 39),\n",
       " ('James', 38),\n",
       " ('George', 37),\n",
       " ('Thomas', 36),\n",
       " ('Joseph', 31),\n",
       " ('Mary', 30),\n",
       " ('Edward', 28),\n",
       " ('Elizabeth', 25)]"
      ]
     },
     "execution_count": 43,
     "metadata": {},
     "output_type": "execute_result"
    }
   ],
   "source": [
    "one_big_name = \" \".join(X.name)\n",
    "one_big_name = one_big_name.split()\n",
    "one_big_name\n",
    "most_common = Counter(one_big_name).most_common()\n",
    "most_common[:15]"
   ]
  },
  {
   "cell_type": "markdown",
   "metadata": {},
   "source": [
    "Проверяем важность вхождения первых 15 имен и обращений. Насколько они важны? Составим матрицу, состоящую только из вхождения первых N слов, обучим на них дерево и проверим важность фичей"
   ]
  },
  {
   "cell_type": "code",
   "execution_count": 44,
   "metadata": {
    "collapsed": true
   },
   "outputs": [],
   "source": [
    "Xname = pd.DataFrame()\n",
    "for col, num in most_common[:15]:\n",
    "    Xname[col] = X[~X.is_test].name.str.contains(col).astype(int)"
   ]
  },
  {
   "cell_type": "code",
   "execution_count": 45,
   "metadata": {},
   "outputs": [
    {
     "data": {
      "text/plain": [
       "(891, 15)"
      ]
     },
     "execution_count": 45,
     "metadata": {},
     "output_type": "execute_result"
    }
   ],
   "source": [
    "Xname.head(5)\n",
    "Xname.shape"
   ]
  },
  {
   "cell_type": "code",
   "execution_count": 46,
   "metadata": {
    "collapsed": true
   },
   "outputs": [],
   "source": [
    "# используем gridsearch заданную в dummies"
   ]
  },
  {
   "cell_type": "code",
   "execution_count": 47,
   "metadata": {},
   "outputs": [
    {
     "name": "stdout",
     "output_type": "stream",
     "text": [
      "Wall time: 0 ns\n"
     ]
    },
    {
     "data": {
      "text/plain": [
       "GridSearchCV(cv=5, error_score='raise',\n",
       "       estimator=DecisionTreeClassifier(class_weight=None, criterion='gini', max_depth=None,\n",
       "            max_features=None, max_leaf_nodes=None,\n",
       "            min_impurity_decrease=0.0, min_impurity_split=None,\n",
       "            min_samples_leaf=1, min_samples_split=2,\n",
       "            min_weight_fraction_leaf=0.0, presort=False, random_state=None,\n",
       "            splitter='best'),\n",
       "       fit_params=None, iid=True, n_jobs=1,\n",
       "       param_grid={'max_depth': array([ 1,  2,  3,  4,  5,  6,  7,  8,  9, 10, 11, 12, 13, 14])},\n",
       "       pre_dispatch='2*n_jobs', refit=True, return_train_score=True,\n",
       "       scoring='neg_log_loss', verbose=0)"
      ]
     },
     "execution_count": 47,
     "metadata": {},
     "output_type": "execute_result"
    }
   ],
   "source": [
    "%time\n",
    "gridsearch.fit(Xname, y_train)"
   ]
  },
  {
   "cell_type": "code",
   "execution_count": 48,
   "metadata": {
    "collapsed": true
   },
   "outputs": [],
   "source": [
    "#sorted(gridsearch.grid_scores_, key = lambda x: -x.mean_validation_score)"
   ]
  },
  {
   "cell_type": "code",
   "execution_count": 49,
   "metadata": {},
   "outputs": [
    {
     "data": {
      "text/plain": [
       "{'max_depth': 2}"
      ]
     },
     "execution_count": 49,
     "metadata": {},
     "output_type": "execute_result"
    }
   ],
   "source": [
    "gridsearch.best_params_"
   ]
  },
  {
   "cell_type": "code",
   "execution_count": 50,
   "metadata": {
    "collapsed": true
   },
   "outputs": [],
   "source": [
    "clf = DecisionTreeClassifier(max_depth=2)"
   ]
  },
  {
   "cell_type": "code",
   "execution_count": 51,
   "metadata": {},
   "outputs": [
    {
     "data": {
      "text/plain": [
       "DecisionTreeClassifier(class_weight=None, criterion='gini', max_depth=2,\n",
       "            max_features=None, max_leaf_nodes=None,\n",
       "            min_impurity_decrease=0.0, min_impurity_split=None,\n",
       "            min_samples_leaf=1, min_samples_split=2,\n",
       "            min_weight_fraction_leaf=0.0, presort=False, random_state=None,\n",
       "            splitter='best')"
      ]
     },
     "execution_count": 51,
     "metadata": {},
     "output_type": "execute_result"
    }
   ],
   "source": [
    "clf.fit(Xname, y_train)"
   ]
  },
  {
   "cell_type": "code",
   "execution_count": 52,
   "metadata": {},
   "outputs": [
    {
     "data": {
      "text/plain": [
       "array([ 0.61084251,  0.        ,  0.38416868,  0.        ,  0.        ,\n",
       "        0.        ,  0.        ,  0.        ,  0.        ,  0.        ,\n",
       "        0.        ,  0.        ,  0.        ,  0.        ,  0.00498881])"
      ]
     },
     "execution_count": 52,
     "metadata": {},
     "output_type": "execute_result"
    }
   ],
   "source": [
    "clf.feature_importances_"
   ]
  },
  {
   "cell_type": "code",
   "execution_count": 53,
   "metadata": {},
   "outputs": [
    {
     "data": {
      "text/plain": [
       "Index(['Mr.', 'Miss.', 'Mrs.', 'William', 'John', 'Master.', 'Henry',\n",
       "       'Charles', 'James', 'George', 'Thomas', 'Joseph', 'Mary', 'Edward',\n",
       "       'Elizabeth'],\n",
       "      dtype='object')"
      ]
     },
     "execution_count": 53,
     "metadata": {},
     "output_type": "execute_result"
    }
   ],
   "source": [
    "Xname.columns"
   ]
  },
  {
   "cell_type": "markdown",
   "metadata": {},
   "source": [
    "Важны два столбца, где в состав имени входили обращения Mr, Mrs. Остальные не используем."
   ]
  },
  {
   "cell_type": "code",
   "execution_count": 54,
   "metadata": {
    "collapsed": true
   },
   "outputs": [],
   "source": [
    "# создаем три колонки фичей Mr, Miss, Mrs.\n",
    "for col, num in most_common[:3]:\n",
    "    X[col] = X.name.str.contains(col).astype(int)"
   ]
  },
  {
   "cell_type": "code",
   "execution_count": 55,
   "metadata": {},
   "outputs": [
    {
     "name": "stdout",
     "output_type": "stream",
     "text": [
      "<class 'pandas.core.frame.DataFrame'>\n",
      "Int64Index: 1309 entries, 0 to 1308\n",
      "Data columns (total 20 columns):\n",
      "passengerid         1309 non-null int64\n",
      "pclass              1309 non-null int64\n",
      "name                1309 non-null object\n",
      "sex                 1309 non-null object\n",
      "age                 1046 non-null float64\n",
      "sibsp               1309 non-null int64\n",
      "parch               1309 non-null int64\n",
      "ticket              1309 non-null object\n",
      "fare                1308 non-null float64\n",
      "cabin               295 non-null object\n",
      "embarked            1309 non-null object\n",
      "is_test             1309 non-null bool\n",
      "sex_female          1309 non-null uint8\n",
      "pclass_1            1309 non-null uint8\n",
      "pclass_3            1309 non-null uint8\n",
      "ticket_words_num    1309 non-null int64\n",
      "ticket_w_or_n       1309 non-null int64\n",
      "name_len            1309 non-null int64\n",
      "Mr.                 1309 non-null int32\n",
      "Mrs.                1309 non-null int32\n",
      "dtypes: bool(1), float64(2), int32(2), int64(7), object(5), uint8(3)\n",
      "memory usage: 168.7+ KB\n"
     ]
    }
   ],
   "source": [
    "del X['Miss.']\n",
    "X.info()"
   ]
  },
  {
   "cell_type": "markdown",
   "metadata": {},
   "source": [
    "# Каюты. Cabin\n",
    "\n",
    "Известно, что буквенный код каюты относился к классу (переменная pclass) \n",
    "1-ый : A, B, C, D, E\n",
    "2-ой : D, E, F\n",
    "3-ий : цифры. \n",
    "Однозначно можно отделить пассажиров 3-его класса., проставим 3-му классу 0. \n",
    "Для всех остальных типов кают создадими фичу, в которой будет указано, есть ли в составе определенная буква.\n",
    "Итого получим 7 столбцов с признаками. Обучив дерево, выделим главные и будем их использовать.\n",
    "\n",
    "Проверим, насколько таким образом сконструированные фичи будут полезны\n",
    "\n",
    "Инф о каютах отсюда: https://www.encyclopedia-titanica.org/cabins.html"
   ]
  },
  {
   "cell_type": "code",
   "execution_count": 56,
   "metadata": {},
   "outputs": [
    {
     "data": {
      "text/plain": [
       "0                  1014\n",
       "C23 C25 C27           6\n",
       "B57 B59 B63 B66       5\n",
       "G6                    5\n",
       "D                     4\n",
       "F2                    4\n",
       "C78                   4\n",
       "B96 B98               4\n",
       "C22 C26               4\n",
       "F4                    4\n",
       "F33                   4\n",
       "A34                   3\n",
       "E34                   3\n",
       "C101                  3\n",
       "B51 B53 B55           3\n",
       "Name: cabin, dtype: int64"
      ]
     },
     "execution_count": 56,
     "metadata": {},
     "output_type": "execute_result"
    }
   ],
   "source": [
    "X.cabin.fillna(0, inplace = True)\n",
    "X.cabin.value_counts()[:15]"
   ]
  },
  {
   "cell_type": "code",
   "execution_count": 57,
   "metadata": {
    "collapsed": true
   },
   "outputs": [],
   "source": [
    "X['cabin_3']=0\n",
    "X['cabin_3']=X.cabin_3.where(X.pclass!=3, 1)\n",
    "#X[['pclass','cabin_3']]"
   ]
  },
  {
   "cell_type": "code",
   "execution_count": 58,
   "metadata": {
    "collapsed": true
   },
   "outputs": [],
   "source": [
    "cabin_col = ['cabin_a', 'cabin_b', 'cabin_c', 'cabin_d', 'cabin_e', 'cabin_f','cabin_3']\n",
    "X['cabin_a']=0\n",
    "X['cabin_b']=0\n",
    "X['cabin_c']=0\n",
    "X['cabin_d']=0\n",
    "X['cabin_e']=0\n",
    "X['cabin_f']=0"
   ]
  },
  {
   "cell_type": "code",
   "execution_count": 59,
   "metadata": {},
   "outputs": [
    {
     "name": "stderr",
     "output_type": "stream",
     "text": [
      "C:\\Users\\blacat\\Anaconda3\\lib\\site-packages\\pandas\\core\\indexing.py:179: SettingWithCopyWarning: \n",
      "A value is trying to be set on a copy of a slice from a DataFrame\n",
      "\n",
      "See the caveats in the documentation: http://pandas.pydata.org/pandas-docs/stable/indexing.html#indexing-view-versus-copy\n",
      "  self._setitem_with_indexer(indexer, value)\n"
     ]
    }
   ],
   "source": [
    "# возможно, можно сделать дугим способом это \"красивее\" и чтобы работало быстрее, с lambda не получилось\n",
    "for index, value in X.cabin.items():\n",
    "    if str(X.cabin.loc[index]).find('A')> -1:\n",
    "        X.cabin_a.loc[index] = 1\n",
    "        #print(index, value)\n",
    "    elif str(X.cabin.loc[index]).find('B')> -1:\n",
    "        X.cabin_b.loc[index] = 1\n",
    "        #print(index, value)\n",
    "    elif str(X.cabin.loc[index]).find('C')> -1:\n",
    "        X.cabin_c.loc[index] = 1\n",
    "        #print(index, value)\n",
    "    elif str(X.cabin.loc[index]).find('D')> -1:\n",
    "        X.cabin_d.loc[index] = 1\n",
    "        #print(index, value)\n",
    "    elif str(X.cabin.loc[index]).find('E')> -1:\n",
    "        X.cabin_e.loc[index] = 1\n",
    "        #print(index, value)\n",
    "    elif str(X.cabin.loc[index]).find('F')> -1:\n",
    "        X.cabin_f.loc[index] = 1\n",
    "        #print(index, value)\n",
    "        \n",
    "#X[cabin_col]"
   ]
  },
  {
   "cell_type": "code",
   "execution_count": 60,
   "metadata": {},
   "outputs": [
    {
     "data": {
      "text/plain": [
       "(891, 7)"
      ]
     },
     "execution_count": 60,
     "metadata": {},
     "output_type": "execute_result"
    }
   ],
   "source": [
    "# готовим матрицу для определения важности фичей\n",
    "X_cabin = X.loc[X.is_test == False][cabin_col]\n",
    "X_cabin.shape"
   ]
  },
  {
   "cell_type": "code",
   "execution_count": 61,
   "metadata": {},
   "outputs": [
    {
     "name": "stdout",
     "output_type": "stream",
     "text": [
      "Wall time: 0 ns\n"
     ]
    },
    {
     "data": {
      "text/plain": [
       "GridSearchCV(cv=5, error_score='raise',\n",
       "       estimator=DecisionTreeClassifier(class_weight=None, criterion='gini', max_depth=None,\n",
       "            max_features=None, max_leaf_nodes=None,\n",
       "            min_impurity_decrease=0.0, min_impurity_split=None,\n",
       "            min_samples_leaf=1, min_samples_split=2,\n",
       "            min_weight_fraction_leaf=0.0, presort=False, random_state=None,\n",
       "            splitter='best'),\n",
       "       fit_params=None, iid=True, n_jobs=1,\n",
       "       param_grid={'max_depth': array([ 1,  2,  3,  4,  5,  6,  7,  8,  9, 10, 11, 12, 13, 14])},\n",
       "       pre_dispatch='2*n_jobs', refit=True, return_train_score=True,\n",
       "       scoring='neg_log_loss', verbose=0)"
      ]
     },
     "execution_count": 61,
     "metadata": {},
     "output_type": "execute_result"
    }
   ],
   "source": [
    "# используем gridsearch, заданную в dummies\n",
    "%time\n",
    "gridsearch.fit(X_cabin, y_train)"
   ]
  },
  {
   "cell_type": "code",
   "execution_count": 62,
   "metadata": {
    "collapsed": true
   },
   "outputs": [],
   "source": [
    "#sorted(gridsearch.grid_scores_, key = lambda x: -x.mean_validation_score)"
   ]
  },
  {
   "cell_type": "code",
   "execution_count": 63,
   "metadata": {},
   "outputs": [
    {
     "data": {
      "text/plain": [
       "{'max_depth': 4}"
      ]
     },
     "execution_count": 63,
     "metadata": {},
     "output_type": "execute_result"
    }
   ],
   "source": [
    "gridsearch.best_params_"
   ]
  },
  {
   "cell_type": "code",
   "execution_count": 64,
   "metadata": {
    "collapsed": true
   },
   "outputs": [],
   "source": [
    "clf_cab = DecisionTreeClassifier(max_depth=4)"
   ]
  },
  {
   "cell_type": "code",
   "execution_count": 65,
   "metadata": {},
   "outputs": [
    {
     "data": {
      "text/plain": [
       "DecisionTreeClassifier(class_weight=None, criterion='gini', max_depth=4,\n",
       "            max_features=None, max_leaf_nodes=None,\n",
       "            min_impurity_decrease=0.0, min_impurity_split=None,\n",
       "            min_samples_leaf=1, min_samples_split=2,\n",
       "            min_weight_fraction_leaf=0.0, presort=False, random_state=None,\n",
       "            splitter='best')"
      ]
     },
     "execution_count": 65,
     "metadata": {},
     "output_type": "execute_result"
    }
   ],
   "source": [
    "clf_cab.fit(X_cabin, y_train)"
   ]
  },
  {
   "cell_type": "code",
   "execution_count": 66,
   "metadata": {},
   "outputs": [
    {
     "data": {
      "text/plain": [
       "array([ 0.        ,  0.06301749,  0.        ,  0.06223727,  0.12785303,\n",
       "        0.00759512,  0.73929709])"
      ]
     },
     "execution_count": 66,
     "metadata": {},
     "output_type": "execute_result"
    }
   ],
   "source": [
    "clf_cab.feature_importances_"
   ]
  },
  {
   "cell_type": "code",
   "execution_count": 67,
   "metadata": {},
   "outputs": [
    {
     "data": {
      "text/plain": [
       "Index(['cabin_a', 'cabin_b', 'cabin_c', 'cabin_d', 'cabin_e', 'cabin_f',\n",
       "       'cabin_3'],\n",
       "      dtype='object')"
      ]
     },
     "execution_count": 67,
     "metadata": {},
     "output_type": "execute_result"
    }
   ],
   "source": [
    "X_cabin.columns"
   ]
  },
  {
   "cell_type": "markdown",
   "metadata": {},
   "source": [
    "Возможно, если оставим b и d приведет к переобучению? Нужно поэкспериментировать. \n",
    "\n",
    "Оставляем cabin_3, cabin_e, cabin_d, cabin_b"
   ]
  },
  {
   "cell_type": "code",
   "execution_count": 68,
   "metadata": {
    "collapsed": true
   },
   "outputs": [],
   "source": [
    "del X['cabin_a']\n",
    "#del X['cabin_b']\n",
    "del X['cabin_c']\n",
    "#del X['cabin_d']\n",
    "del X['cabin_f']"
   ]
  },
  {
   "cell_type": "code",
   "execution_count": 69,
   "metadata": {
    "collapsed": true
   },
   "outputs": [],
   "source": [
    "#X.info()"
   ]
  },
  {
   "cell_type": "markdown",
   "metadata": {},
   "source": [
    "# Возраст. Age\n",
    "\n",
    "Возраст. Посмотрим на значения возраста на boxplot в зависисмости от класса пассажира."
   ]
  },
  {
   "cell_type": "code",
   "execution_count": 70,
   "metadata": {
    "scrolled": true
   },
   "outputs": [
    {
     "data": {
      "text/plain": [
       "<matplotlib.axes._subplots.AxesSubplot at 0x2508ad228d0>"
      ]
     },
     "execution_count": 70,
     "metadata": {},
     "output_type": "execute_result"
    },
    {
     "data": {
      "image/png": "[encoded data removed]",
      "text/plain": [
       "<matplotlib.figure.Figure at 0x2508aa7aa58>"
      ]
     },
     "metadata": {
      "image/png": {
       "height": 317,
       "width": 551
      }
     },
     "output_type": "display_data"
    }
   ],
   "source": [
    "# посмотрим на медиану возраста для всех классов\n",
    "X.age.fillna(0, inplace=True)\n",
    "X[['age','pclass']]\n",
    "age_vs_class = X[X.age!=0][['age','pclass']]\n",
    "sns.boxplot(age_vs_class.pclass,age_vs_class.age)"
   ]
  },
  {
   "cell_type": "markdown",
   "metadata": {},
   "source": [
    "У каждого класса явная медиана, для пустых значений класса проставим соответствующую медиану. Этими значениями заполним\n",
    "пустоты возраста. "
   ]
  },
  {
   "cell_type": "code",
   "execution_count": 71,
   "metadata": {
    "collapsed": true
   },
   "outputs": [],
   "source": [
    "# медиана возраста соотв. класса\n",
    "age3 = age_vs_class[age_vs_class.pclass==3]['age'].median()\n",
    "age2 = age_vs_class[age_vs_class.pclass==2]['age'].median()\n",
    "age1 = age_vs_class[age_vs_class.pclass==1]['age'].median()"
   ]
  },
  {
   "cell_type": "code",
   "execution_count": 72,
   "metadata": {},
   "outputs": [
    {
     "name": "stderr",
     "output_type": "stream",
     "text": [
      "C:\\Users\\blacat\\Anaconda3\\lib\\site-packages\\ipykernel_launcher.py:3: SettingWithCopyWarning: \n",
      "A value is trying to be set on a copy of a slice from a DataFrame\n",
      "\n",
      "See the caveats in the documentation: http://pandas.pydata.org/pandas-docs/stable/indexing.html#indexing-view-versus-copy\n",
      "  This is separate from the ipykernel package so we can avoid doing imports until\n"
     ]
    }
   ],
   "source": [
    "for index, value in X.age.items():\n",
    "    if (X['pclass'][index] == 3 ) & (X.age[index]==0):\n",
    "        X['age'][index] = age3"
   ]
  },
  {
   "cell_type": "code",
   "execution_count": 73,
   "metadata": {},
   "outputs": [
    {
     "name": "stderr",
     "output_type": "stream",
     "text": [
      "C:\\Users\\blacat\\Anaconda3\\lib\\site-packages\\ipykernel_launcher.py:4: SettingWithCopyWarning: \n",
      "A value is trying to be set on a copy of a slice from a DataFrame\n",
      "\n",
      "See the caveats in the documentation: http://pandas.pydata.org/pandas-docs/stable/indexing.html#indexing-view-versus-copy\n",
      "  after removing the cwd from sys.path.\n"
     ]
    }
   ],
   "source": [
    "for index, value in X.age.items():\n",
    "    if (X['pclass'][index] == 2 ) & (X['age'][index]==0):\n",
    "        #print(index, X['pclass'][index], )\n",
    "        X['age'][index] = age2"
   ]
  },
  {
   "cell_type": "code",
   "execution_count": 74,
   "metadata": {},
   "outputs": [
    {
     "name": "stderr",
     "output_type": "stream",
     "text": [
      "C:\\Users\\blacat\\Anaconda3\\lib\\site-packages\\ipykernel_launcher.py:4: SettingWithCopyWarning: \n",
      "A value is trying to be set on a copy of a slice from a DataFrame\n",
      "\n",
      "See the caveats in the documentation: http://pandas.pydata.org/pandas-docs/stable/indexing.html#indexing-view-versus-copy\n",
      "  after removing the cwd from sys.path.\n"
     ]
    }
   ],
   "source": [
    "for index, value in X.age.items():\n",
    "    if (X['pclass'][index] == 1 ) & (X['age'][index]==0):\n",
    "        #print(index, X['pclass'][index], )\n",
    "        X['age'][index] = age1"
   ]
  },
  {
   "cell_type": "markdown",
   "metadata": {},
   "source": [
    "# Зарплата. Fare\n",
    "\n",
    "Неизвестна зарплата одного из пассажиров. Посмотрим на boxplot как зарплата соотносится с классом пассажира."
   ]
  },
  {
   "cell_type": "code",
   "execution_count": 75,
   "metadata": {},
   "outputs": [
    {
     "data": {
      "text/html": [
       "<div>\n",
       "<style>\n",
       "    .dataframe thead tr:only-child th {\n",
       "        text-align: right;\n",
       "    }\n",
       "\n",
       "    .dataframe thead th {\n",
       "        text-align: left;\n",
       "    }\n",
       "\n",
       "    .dataframe tbody tr th {\n",
       "        vertical-align: top;\n",
       "    }\n",
       "</style>\n",
       "<table border=\"1\" class=\"dataframe\">\n",
       "  <thead>\n",
       "    <tr style=\"text-align: right;\">\n",
       "      <th></th>\n",
       "      <th>passengerid</th>\n",
       "      <th>pclass</th>\n",
       "      <th>name</th>\n",
       "      <th>sex</th>\n",
       "      <th>age</th>\n",
       "      <th>sibsp</th>\n",
       "      <th>parch</th>\n",
       "      <th>ticket</th>\n",
       "      <th>fare</th>\n",
       "      <th>cabin</th>\n",
       "      <th>...</th>\n",
       "      <th>pclass_3</th>\n",
       "      <th>ticket_words_num</th>\n",
       "      <th>ticket_w_or_n</th>\n",
       "      <th>name_len</th>\n",
       "      <th>Mr.</th>\n",
       "      <th>Mrs.</th>\n",
       "      <th>cabin_3</th>\n",
       "      <th>cabin_b</th>\n",
       "      <th>cabin_d</th>\n",
       "      <th>cabin_e</th>\n",
       "    </tr>\n",
       "  </thead>\n",
       "  <tbody>\n",
       "    <tr>\n",
       "      <th>1043</th>\n",
       "      <td>1044</td>\n",
       "      <td>3</td>\n",
       "      <td>Storey Mr. Thomas</td>\n",
       "      <td>male</td>\n",
       "      <td>60.5</td>\n",
       "      <td>0</td>\n",
       "      <td>0</td>\n",
       "      <td>3701</td>\n",
       "      <td>NaN</td>\n",
       "      <td>0</td>\n",
       "      <td>...</td>\n",
       "      <td>1</td>\n",
       "      <td>1</td>\n",
       "      <td>0</td>\n",
       "      <td>17</td>\n",
       "      <td>1</td>\n",
       "      <td>0</td>\n",
       "      <td>1</td>\n",
       "      <td>0</td>\n",
       "      <td>0</td>\n",
       "      <td>0</td>\n",
       "    </tr>\n",
       "  </tbody>\n",
       "</table>\n",
       "<p>1 rows × 24 columns</p>\n",
       "</div>"
      ],
      "text/plain": [
       "      passengerid  pclass               name   sex   age  sibsp  parch ticket  \\\n",
       "1043         1044       3  Storey Mr. Thomas  male  60.5      0      0   3701   \n",
       "\n",
       "      fare cabin   ...    pclass_3  ticket_words_num  ticket_w_or_n  name_len  \\\n",
       "1043   NaN     0   ...           1                 1              0        17   \n",
       "\n",
       "      Mr.  Mrs.  cabin_3  cabin_b  cabin_d  cabin_e  \n",
       "1043    1     0        1        0        0        0  \n",
       "\n",
       "[1 rows x 24 columns]"
      ]
     },
     "execution_count": 75,
     "metadata": {},
     "output_type": "execute_result"
    }
   ],
   "source": [
    "X[X.fare.isnull() == True]"
   ]
  },
  {
   "cell_type": "markdown",
   "metadata": {},
   "source": [
    "Это мужчина 3-его класса 60-ти лет, поэтому проставим ему медианную зарплату пассажиров 3-его класса, \n",
    "так как при разделении на классы видна четкая зависимость зарплат от класса пассажира."
   ]
  },
  {
   "cell_type": "code",
   "execution_count": 76,
   "metadata": {},
   "outputs": [
    {
     "data": {
      "text/plain": [
       "<matplotlib.axes._subplots.AxesSubplot at 0x2508ae98b00>"
      ]
     },
     "execution_count": 76,
     "metadata": {},
     "output_type": "execute_result"
    },
    {
     "data": {
      "image/png": "[encoded data removed]",
      "text/plain": [
       "<matplotlib.figure.Figure at 0x2508ad222b0>"
      ]
     },
     "metadata": {
      "image/png": {
       "height": 317,
       "width": 558
      }
     },
     "output_type": "display_data"
    }
   ],
   "source": [
    "X[['fare','pclass']]\n",
    "fare_vs_pclass = X[X.fare.isnull() == False][['fare','pclass']]\n",
    "sns.boxplot(fare_vs_pclass.pclass, fare_vs_pclass.fare)"
   ]
  },
  {
   "cell_type": "code",
   "execution_count": 77,
   "metadata": {
    "collapsed": true
   },
   "outputs": [],
   "source": [
    "X.fare.fillna(X[X.pclass==3]['fare'].median(), inplace = True)"
   ]
  },
  {
   "cell_type": "code",
   "execution_count": null,
   "metadata": {
    "collapsed": true
   },
   "outputs": [],
   "source": []
  },
  {
   "cell_type": "markdown",
   "metadata": {},
   "source": [
    "# Дерево решений\n",
    "\n",
    "Все фичи заполнены и обработаны."
   ]
  },
  {
   "cell_type": "code",
   "execution_count": 78,
   "metadata": {},
   "outputs": [
    {
     "data": {
      "text/html": [
       "<div>\n",
       "<style>\n",
       "    .dataframe thead tr:only-child th {\n",
       "        text-align: right;\n",
       "    }\n",
       "\n",
       "    .dataframe thead th {\n",
       "        text-align: left;\n",
       "    }\n",
       "\n",
       "    .dataframe tbody tr th {\n",
       "        vertical-align: top;\n",
       "    }\n",
       "</style>\n",
       "<table border=\"1\" class=\"dataframe\">\n",
       "  <thead>\n",
       "    <tr style=\"text-align: right;\">\n",
       "      <th></th>\n",
       "      <th>passengerid</th>\n",
       "      <th>pclass</th>\n",
       "      <th>name</th>\n",
       "      <th>sex</th>\n",
       "      <th>age</th>\n",
       "      <th>sibsp</th>\n",
       "      <th>parch</th>\n",
       "      <th>ticket</th>\n",
       "      <th>fare</th>\n",
       "      <th>cabin</th>\n",
       "      <th>...</th>\n",
       "      <th>pclass_3</th>\n",
       "      <th>ticket_words_num</th>\n",
       "      <th>ticket_w_or_n</th>\n",
       "      <th>name_len</th>\n",
       "      <th>Mr.</th>\n",
       "      <th>Mrs.</th>\n",
       "      <th>cabin_3</th>\n",
       "      <th>cabin_b</th>\n",
       "      <th>cabin_d</th>\n",
       "      <th>cabin_e</th>\n",
       "    </tr>\n",
       "  </thead>\n",
       "  <tbody>\n",
       "    <tr>\n",
       "      <th>0</th>\n",
       "      <td>1</td>\n",
       "      <td>3</td>\n",
       "      <td>Braund Mr. Owen Harris</td>\n",
       "      <td>male</td>\n",
       "      <td>22.0</td>\n",
       "      <td>1</td>\n",
       "      <td>0</td>\n",
       "      <td>A/5 21171</td>\n",
       "      <td>7.2500</td>\n",
       "      <td>0</td>\n",
       "      <td>...</td>\n",
       "      <td>1</td>\n",
       "      <td>2</td>\n",
       "      <td>1</td>\n",
       "      <td>22</td>\n",
       "      <td>1</td>\n",
       "      <td>0</td>\n",
       "      <td>1</td>\n",
       "      <td>0</td>\n",
       "      <td>0</td>\n",
       "      <td>0</td>\n",
       "    </tr>\n",
       "    <tr>\n",
       "      <th>1</th>\n",
       "      <td>2</td>\n",
       "      <td>1</td>\n",
       "      <td>Cumings Mrs. John Bradley Florence Briggs Thayer</td>\n",
       "      <td>female</td>\n",
       "      <td>38.0</td>\n",
       "      <td>1</td>\n",
       "      <td>0</td>\n",
       "      <td>PC 17599</td>\n",
       "      <td>71.2833</td>\n",
       "      <td>C85</td>\n",
       "      <td>...</td>\n",
       "      <td>0</td>\n",
       "      <td>2</td>\n",
       "      <td>1</td>\n",
       "      <td>48</td>\n",
       "      <td>1</td>\n",
       "      <td>1</td>\n",
       "      <td>0</td>\n",
       "      <td>0</td>\n",
       "      <td>0</td>\n",
       "      <td>0</td>\n",
       "    </tr>\n",
       "  </tbody>\n",
       "</table>\n",
       "<p>2 rows × 24 columns</p>\n",
       "</div>"
      ],
      "text/plain": [
       "   passengerid  pclass                                              name  \\\n",
       "0            1       3                            Braund Mr. Owen Harris   \n",
       "1            2       1  Cumings Mrs. John Bradley Florence Briggs Thayer   \n",
       "\n",
       "      sex   age  sibsp  parch     ticket     fare cabin   ...    pclass_3  \\\n",
       "0    male  22.0      1      0  A/5 21171   7.2500     0   ...           1   \n",
       "1  female  38.0      1      0   PC 17599  71.2833   C85   ...           0   \n",
       "\n",
       "   ticket_words_num  ticket_w_or_n  name_len  Mr.  Mrs.  cabin_3  cabin_b  \\\n",
       "0                 2              1        22    1     0        1        0   \n",
       "1                 2              1        48    1     1        0        0   \n",
       "\n",
       "   cabin_d  cabin_e  \n",
       "0        0        0  \n",
       "1        0        0  \n",
       "\n",
       "[2 rows x 24 columns]"
      ]
     },
     "execution_count": 78,
     "metadata": {},
     "output_type": "execute_result"
    }
   ],
   "source": [
    "drop_col=['passengerid','pclass','name','sex','sibsp','parch','ticket','cabin','embarked']\n",
    "X.head(2)"
   ]
  },
  {
   "cell_type": "markdown",
   "metadata": {},
   "source": [
    "Разделяем на тестовую и учебную выборки"
   ]
  },
  {
   "cell_type": "code",
   "execution_count": 79,
   "metadata": {},
   "outputs": [
    {
     "data": {
      "text/html": [
       "<div>\n",
       "<style>\n",
       "    .dataframe thead tr:only-child th {\n",
       "        text-align: right;\n",
       "    }\n",
       "\n",
       "    .dataframe thead th {\n",
       "        text-align: left;\n",
       "    }\n",
       "\n",
       "    .dataframe tbody tr th {\n",
       "        vertical-align: top;\n",
       "    }\n",
       "</style>\n",
       "<table border=\"1\" class=\"dataframe\">\n",
       "  <thead>\n",
       "    <tr style=\"text-align: right;\">\n",
       "      <th></th>\n",
       "      <th>age</th>\n",
       "      <th>fare</th>\n",
       "      <th>is_test</th>\n",
       "      <th>sex_female</th>\n",
       "      <th>pclass_1</th>\n",
       "      <th>pclass_3</th>\n",
       "      <th>ticket_words_num</th>\n",
       "      <th>ticket_w_or_n</th>\n",
       "      <th>name_len</th>\n",
       "      <th>Mr.</th>\n",
       "      <th>Mrs.</th>\n",
       "      <th>cabin_3</th>\n",
       "      <th>cabin_b</th>\n",
       "      <th>cabin_d</th>\n",
       "      <th>cabin_e</th>\n",
       "    </tr>\n",
       "  </thead>\n",
       "  <tbody>\n",
       "    <tr>\n",
       "      <th>0</th>\n",
       "      <td>22.0</td>\n",
       "      <td>7.2500</td>\n",
       "      <td>False</td>\n",
       "      <td>0</td>\n",
       "      <td>0</td>\n",
       "      <td>1</td>\n",
       "      <td>2</td>\n",
       "      <td>1</td>\n",
       "      <td>22</td>\n",
       "      <td>1</td>\n",
       "      <td>0</td>\n",
       "      <td>1</td>\n",
       "      <td>0</td>\n",
       "      <td>0</td>\n",
       "      <td>0</td>\n",
       "    </tr>\n",
       "    <tr>\n",
       "      <th>1</th>\n",
       "      <td>38.0</td>\n",
       "      <td>71.2833</td>\n",
       "      <td>False</td>\n",
       "      <td>1</td>\n",
       "      <td>1</td>\n",
       "      <td>0</td>\n",
       "      <td>2</td>\n",
       "      <td>1</td>\n",
       "      <td>48</td>\n",
       "      <td>1</td>\n",
       "      <td>1</td>\n",
       "      <td>0</td>\n",
       "      <td>0</td>\n",
       "      <td>0</td>\n",
       "      <td>0</td>\n",
       "    </tr>\n",
       "    <tr>\n",
       "      <th>2</th>\n",
       "      <td>26.0</td>\n",
       "      <td>7.9250</td>\n",
       "      <td>False</td>\n",
       "      <td>1</td>\n",
       "      <td>0</td>\n",
       "      <td>1</td>\n",
       "      <td>2</td>\n",
       "      <td>1</td>\n",
       "      <td>21</td>\n",
       "      <td>0</td>\n",
       "      <td>0</td>\n",
       "      <td>1</td>\n",
       "      <td>0</td>\n",
       "      <td>0</td>\n",
       "      <td>0</td>\n",
       "    </tr>\n",
       "    <tr>\n",
       "      <th>3</th>\n",
       "      <td>35.0</td>\n",
       "      <td>53.1000</td>\n",
       "      <td>False</td>\n",
       "      <td>1</td>\n",
       "      <td>1</td>\n",
       "      <td>0</td>\n",
       "      <td>1</td>\n",
       "      <td>0</td>\n",
       "      <td>41</td>\n",
       "      <td>1</td>\n",
       "      <td>1</td>\n",
       "      <td>0</td>\n",
       "      <td>0</td>\n",
       "      <td>0</td>\n",
       "      <td>0</td>\n",
       "    </tr>\n",
       "    <tr>\n",
       "      <th>4</th>\n",
       "      <td>35.0</td>\n",
       "      <td>8.0500</td>\n",
       "      <td>False</td>\n",
       "      <td>0</td>\n",
       "      <td>0</td>\n",
       "      <td>1</td>\n",
       "      <td>1</td>\n",
       "      <td>0</td>\n",
       "      <td>23</td>\n",
       "      <td>1</td>\n",
       "      <td>0</td>\n",
       "      <td>1</td>\n",
       "      <td>0</td>\n",
       "      <td>0</td>\n",
       "      <td>0</td>\n",
       "    </tr>\n",
       "  </tbody>\n",
       "</table>\n",
       "</div>"
      ],
      "text/plain": [
       "    age     fare  is_test  sex_female  pclass_1  pclass_3  ticket_words_num  \\\n",
       "0  22.0   7.2500    False           0         0         1                 2   \n",
       "1  38.0  71.2833    False           1         1         0                 2   \n",
       "2  26.0   7.9250    False           1         0         1                 2   \n",
       "3  35.0  53.1000    False           1         1         0                 1   \n",
       "4  35.0   8.0500    False           0         0         1                 1   \n",
       "\n",
       "   ticket_w_or_n  name_len  Mr.  Mrs.  cabin_3  cabin_b  cabin_d  cabin_e  \n",
       "0              1        22    1     0        1        0        0        0  \n",
       "1              1        48    1     1        0        0        0        0  \n",
       "2              1        21    0     0        1        0        0        0  \n",
       "3              0        41    1     1        0        0        0        0  \n",
       "4              0        23    1     0        1        0        0        0  "
      ]
     },
     "execution_count": 79,
     "metadata": {},
     "output_type": "execute_result"
    }
   ],
   "source": [
    "X = X.drop(X[drop_col],axis = 1)\n",
    "X.head()"
   ]
  },
  {
   "cell_type": "code",
   "execution_count": 80,
   "metadata": {
    "collapsed": true
   },
   "outputs": [],
   "source": [
    "Xtrain_prep = X[~X.is_test]"
   ]
  },
  {
   "cell_type": "code",
   "execution_count": 81,
   "metadata": {
    "collapsed": true
   },
   "outputs": [],
   "source": [
    "Xtest_prep=X[X.is_test == True]"
   ]
  },
  {
   "cell_type": "code",
   "execution_count": 82,
   "metadata": {},
   "outputs": [
    {
     "data": {
      "text/plain": [
       "(891, 15)"
      ]
     },
     "execution_count": 82,
     "metadata": {},
     "output_type": "execute_result"
    }
   ],
   "source": [
    "Xtrain_prep.shape"
   ]
  },
  {
   "cell_type": "code",
   "execution_count": 83,
   "metadata": {},
   "outputs": [
    {
     "data": {
      "text/plain": [
       "(891,)"
      ]
     },
     "execution_count": 83,
     "metadata": {},
     "output_type": "execute_result"
    }
   ],
   "source": [
    "y_train.shape"
   ]
  },
  {
   "cell_type": "code",
   "execution_count": 84,
   "metadata": {},
   "outputs": [
    {
     "data": {
      "text/plain": [
       "(418, 15)"
      ]
     },
     "execution_count": 84,
     "metadata": {},
     "output_type": "execute_result"
    }
   ],
   "source": [
    "Xtest_prep.shape"
   ]
  },
  {
   "cell_type": "code",
   "execution_count": 85,
   "metadata": {
    "collapsed": true
   },
   "outputs": [],
   "source": [
    "del Xtest_prep['is_test']"
   ]
  },
  {
   "cell_type": "code",
   "execution_count": 86,
   "metadata": {
    "collapsed": true
   },
   "outputs": [],
   "source": [
    "del Xtrain_prep['is_test']"
   ]
  },
  {
   "cell_type": "code",
   "execution_count": 87,
   "metadata": {},
   "outputs": [
    {
     "data": {
      "text/html": [
       "<div>\n",
       "<style>\n",
       "    .dataframe thead tr:only-child th {\n",
       "        text-align: right;\n",
       "    }\n",
       "\n",
       "    .dataframe thead th {\n",
       "        text-align: left;\n",
       "    }\n",
       "\n",
       "    .dataframe tbody tr th {\n",
       "        vertical-align: top;\n",
       "    }\n",
       "</style>\n",
       "<table border=\"1\" class=\"dataframe\">\n",
       "  <thead>\n",
       "    <tr style=\"text-align: right;\">\n",
       "      <th></th>\n",
       "      <th>age</th>\n",
       "      <th>fare</th>\n",
       "      <th>sex_female</th>\n",
       "      <th>pclass_1</th>\n",
       "      <th>pclass_3</th>\n",
       "      <th>ticket_words_num</th>\n",
       "      <th>ticket_w_or_n</th>\n",
       "      <th>name_len</th>\n",
       "      <th>Mr.</th>\n",
       "      <th>Mrs.</th>\n",
       "      <th>cabin_3</th>\n",
       "      <th>cabin_b</th>\n",
       "      <th>cabin_d</th>\n",
       "      <th>cabin_e</th>\n",
       "    </tr>\n",
       "  </thead>\n",
       "  <tbody>\n",
       "    <tr>\n",
       "      <th>0</th>\n",
       "      <td>22.0</td>\n",
       "      <td>7.2500</td>\n",
       "      <td>0</td>\n",
       "      <td>0</td>\n",
       "      <td>1</td>\n",
       "      <td>2</td>\n",
       "      <td>1</td>\n",
       "      <td>22</td>\n",
       "      <td>1</td>\n",
       "      <td>0</td>\n",
       "      <td>1</td>\n",
       "      <td>0</td>\n",
       "      <td>0</td>\n",
       "      <td>0</td>\n",
       "    </tr>\n",
       "    <tr>\n",
       "      <th>1</th>\n",
       "      <td>38.0</td>\n",
       "      <td>71.2833</td>\n",
       "      <td>1</td>\n",
       "      <td>1</td>\n",
       "      <td>0</td>\n",
       "      <td>2</td>\n",
       "      <td>1</td>\n",
       "      <td>48</td>\n",
       "      <td>1</td>\n",
       "      <td>1</td>\n",
       "      <td>0</td>\n",
       "      <td>0</td>\n",
       "      <td>0</td>\n",
       "      <td>0</td>\n",
       "    </tr>\n",
       "    <tr>\n",
       "      <th>2</th>\n",
       "      <td>26.0</td>\n",
       "      <td>7.9250</td>\n",
       "      <td>1</td>\n",
       "      <td>0</td>\n",
       "      <td>1</td>\n",
       "      <td>2</td>\n",
       "      <td>1</td>\n",
       "      <td>21</td>\n",
       "      <td>0</td>\n",
       "      <td>0</td>\n",
       "      <td>1</td>\n",
       "      <td>0</td>\n",
       "      <td>0</td>\n",
       "      <td>0</td>\n",
       "    </tr>\n",
       "    <tr>\n",
       "      <th>3</th>\n",
       "      <td>35.0</td>\n",
       "      <td>53.1000</td>\n",
       "      <td>1</td>\n",
       "      <td>1</td>\n",
       "      <td>0</td>\n",
       "      <td>1</td>\n",
       "      <td>0</td>\n",
       "      <td>41</td>\n",
       "      <td>1</td>\n",
       "      <td>1</td>\n",
       "      <td>0</td>\n",
       "      <td>0</td>\n",
       "      <td>0</td>\n",
       "      <td>0</td>\n",
       "    </tr>\n",
       "    <tr>\n",
       "      <th>4</th>\n",
       "      <td>35.0</td>\n",
       "      <td>8.0500</td>\n",
       "      <td>0</td>\n",
       "      <td>0</td>\n",
       "      <td>1</td>\n",
       "      <td>1</td>\n",
       "      <td>0</td>\n",
       "      <td>23</td>\n",
       "      <td>1</td>\n",
       "      <td>0</td>\n",
       "      <td>1</td>\n",
       "      <td>0</td>\n",
       "      <td>0</td>\n",
       "      <td>0</td>\n",
       "    </tr>\n",
       "  </tbody>\n",
       "</table>\n",
       "</div>"
      ],
      "text/plain": [
       "    age     fare  sex_female  pclass_1  pclass_3  ticket_words_num  \\\n",
       "0  22.0   7.2500           0         0         1                 2   \n",
       "1  38.0  71.2833           1         1         0                 2   \n",
       "2  26.0   7.9250           1         0         1                 2   \n",
       "3  35.0  53.1000           1         1         0                 1   \n",
       "4  35.0   8.0500           0         0         1                 1   \n",
       "\n",
       "   ticket_w_or_n  name_len  Mr.  Mrs.  cabin_3  cabin_b  cabin_d  cabin_e  \n",
       "0              1        22    1     0        1        0        0        0  \n",
       "1              1        48    1     1        0        0        0        0  \n",
       "2              1        21    0     0        1        0        0        0  \n",
       "3              0        41    1     1        0        0        0        0  \n",
       "4              0        23    1     0        1        0        0        0  "
      ]
     },
     "execution_count": 87,
     "metadata": {},
     "output_type": "execute_result"
    }
   ],
   "source": [
    "Xtrain_prep.head()"
   ]
  },
  {
   "cell_type": "code",
   "execution_count": 88,
   "metadata": {
    "collapsed": true
   },
   "outputs": [],
   "source": [
    "# в gridsearch задаем новые параметры\n",
    "depths = np.arange(1,15)\n",
    "features_num = np.arange(1,15) # 16 фич, выбрать, какое кол-во фич оптимально\n",
    "grid = {'max_depth': depths, 'max_features': features_num}\n",
    "gridsearch = GridSearchCV(DecisionTreeClassifier(), grid, scoring='neg_log_loss', cv=5)"
   ]
  },
  {
   "cell_type": "code",
   "execution_count": 89,
   "metadata": {},
   "outputs": [
    {
     "name": "stdout",
     "output_type": "stream",
     "text": [
      "Wall time: 4.05 s\n"
     ]
    },
    {
     "data": {
      "text/plain": [
       "GridSearchCV(cv=5, error_score='raise',\n",
       "       estimator=DecisionTreeClassifier(class_weight=None, criterion='gini', max_depth=None,\n",
       "            max_features=None, max_leaf_nodes=None,\n",
       "            min_impurity_decrease=0.0, min_impurity_split=None,\n",
       "            min_samples_leaf=1, min_samples_split=2,\n",
       "            min_weight_fraction_leaf=0.0, presort=False, random_state=None,\n",
       "            splitter='best'),\n",
       "       fit_params=None, iid=True, n_jobs=1,\n",
       "       param_grid={'max_depth': array([ 1,  2,  3,  4,  5,  6,  7,  8,  9, 10, 11, 12, 13, 14]), 'max_features': array([ 1,  2,  3,  4,  5,  6,  7,  8,  9, 10, 11, 12, 13, 14])},\n",
       "       pre_dispatch='2*n_jobs', refit=True, return_train_score=True,\n",
       "       scoring='neg_log_loss', verbose=0)"
      ]
     },
     "execution_count": 89,
     "metadata": {},
     "output_type": "execute_result"
    }
   ],
   "source": [
    "%%time\n",
    "gridsearch.fit(Xtrain_prep, y_train)"
   ]
  },
  {
   "cell_type": "code",
   "execution_count": 90,
   "metadata": {},
   "outputs": [
    {
     "name": "stderr",
     "output_type": "stream",
     "text": [
      "C:\\Users\\blacat\\Anaconda3\\lib\\site-packages\\sklearn\\model_selection\\_search.py:747: DeprecationWarning: The grid_scores_ attribute was deprecated in version 0.18 in favor of the more elaborate cv_results_ attribute. The grid_scores_ attribute will not be available from 0.20\n",
      "  DeprecationWarning)\n"
     ]
    },
    {
     "data": {
      "text/plain": [
       "[mean: -0.43438, std: 0.04038, params: {'max_depth': 3, 'max_features': 13},\n",
       " mean: -0.44833, std: 0.02207, params: {'max_depth': 3, 'max_features': 7},\n",
       " mean: -0.46303, std: 0.03042, params: {'max_depth': 3, 'max_features': 5},\n",
       " mean: -0.46526, std: 0.02207, params: {'max_depth': 2, 'max_features': 5},\n",
       " mean: -0.46652, std: 0.02599, params: {'max_depth': 2, 'max_features': 10},\n",
       " mean: -0.47282, std: 0.02518, params: {'max_depth': 2, 'max_features': 13},\n",
       " mean: -0.47282, std: 0.02518, params: {'max_depth': 2, 'max_features': 14},\n",
       " mean: -0.47342, std: 0.07120, params: {'max_depth': 3, 'max_features': 11},\n",
       " mean: -0.47427, std: 0.01146, params: {'max_depth': 2, 'max_features': 7},\n",
       " mean: -0.47670, std: 0.02146, params: {'max_depth': 2, 'max_features': 12},\n",
       " mean: -0.47756, std: 0.02170, params: {'max_depth': 2, 'max_features': 11},\n",
       " mean: -0.48083, std: 0.06326, params: {'max_depth': 3, 'max_features': 9},\n",
       " mean: -0.48406, std: 0.03051, params: {'max_depth': 2, 'max_features': 8},\n",
       " mean: -0.48769, std: 0.09889, params: {'max_depth': 3, 'max_features': 14},\n",
       " mean: -0.49751, std: 0.02497, params: {'max_depth': 2, 'max_features': 9},\n",
       " mean: -0.51588, std: 0.02661, params: {'max_depth': 1, 'max_features': 9},\n",
       " mean: -0.51588, std: 0.02661, params: {'max_depth': 1, 'max_features': 12},\n",
       " mean: -0.51588, std: 0.02661, params: {'max_depth': 1, 'max_features': 14},\n",
       " mean: -0.52730, std: 0.04107, params: {'max_depth': 2, 'max_features': 6},\n",
       " mean: -0.52855, std: 0.06357, params: {'max_depth': 3, 'max_features': 3},\n",
       " mean: -0.53817, std: 0.05123, params: {'max_depth': 1, 'max_features': 13},\n",
       " mean: -0.54595, std: 0.11991, params: {'max_depth': 3, 'max_features': 10},\n",
       " mean: -0.54598, std: 0.10616, params: {'max_depth': 3, 'max_features': 12},\n",
       " mean: -0.54606, std: 0.04707, params: {'max_depth': 2, 'max_features': 4},\n",
       " mean: -0.54610, std: 0.07606, params: {'max_depth': 2, 'max_features': 3},\n",
       " mean: -0.54679, std: 0.04873, params: {'max_depth': 1, 'max_features': 8},\n",
       " mean: -0.55529, std: 0.04636, params: {'max_depth': 1, 'max_features': 7},\n",
       " mean: -0.55655, std: 0.06133, params: {'max_depth': 1, 'max_features': 10},\n",
       " mean: -0.55745, std: 0.15458, params: {'max_depth': 3, 'max_features': 8},\n",
       " mean: -0.56074, std: 0.03803, params: {'max_depth': 2, 'max_features': 2},\n",
       " mean: -0.57391, std: 0.06717, params: {'max_depth': 1, 'max_features': 11},\n",
       " mean: -0.59035, std: 0.07124, params: {'max_depth': 1, 'max_features': 3},\n",
       " mean: -0.59168, std: 0.16195, params: {'max_depth': 4, 'max_features': 8},\n",
       " mean: -0.59218, std: 0.06430, params: {'max_depth': 1, 'max_features': 5},\n",
       " mean: -0.59271, std: 0.05473, params: {'max_depth': 1, 'max_features': 6},\n",
       " mean: -0.59895, std: 0.07573, params: {'max_depth': 1, 'max_features': 2},\n",
       " mean: -0.60485, std: 0.22474, params: {'max_depth': 3, 'max_features': 6},\n",
       " mean: -0.61199, std: 0.03632, params: {'max_depth': 1, 'max_features': 4},\n",
       " mean: -0.61315, std: 0.05097, params: {'max_depth': 1, 'max_features': 1},\n",
       " mean: -0.62177, std: 0.19672, params: {'max_depth': 3, 'max_features': 2},\n",
       " mean: -0.63486, std: 0.10156, params: {'max_depth': 3, 'max_features': 1},\n",
       " mean: -0.65665, std: 0.09261, params: {'max_depth': 2, 'max_features': 1},\n",
       " mean: -0.65787, std: 0.23228, params: {'max_depth': 4, 'max_features': 7},\n",
       " mean: -0.65963, std: 0.08583, params: {'max_depth': 4, 'max_features': 1},\n",
       " mean: -0.68744, std: 0.20147, params: {'max_depth': 3, 'max_features': 4},\n",
       " mean: -0.69904, std: 0.20807, params: {'max_depth': 4, 'max_features': 2},\n",
       " mean: -0.71253, std: 0.13970, params: {'max_depth': 4, 'max_features': 4},\n",
       " mean: -0.74478, std: 0.18772, params: {'max_depth': 4, 'max_features': 3},\n",
       " mean: -0.78048, std: 0.36316, params: {'max_depth': 4, 'max_features': 6},\n",
       " mean: -0.80505, std: 0.46293, params: {'max_depth': 4, 'max_features': 10},\n",
       " mean: -0.80841, std: 0.30751, params: {'max_depth': 5, 'max_features': 3},\n",
       " mean: -0.83231, std: 0.12928, params: {'max_depth': 4, 'max_features': 5},\n",
       " mean: -0.85402, std: 0.15243, params: {'max_depth': 4, 'max_features': 11},\n",
       " mean: -0.85596, std: 0.32946, params: {'max_depth': 4, 'max_features': 14},\n",
       " mean: -0.86978, std: 0.29410, params: {'max_depth': 5, 'max_features': 2},\n",
       " mean: -0.88283, std: 0.11315, params: {'max_depth': 5, 'max_features': 4},\n",
       " mean: -0.91815, std: 0.26229, params: {'max_depth': 4, 'max_features': 12},\n",
       " mean: -0.92466, std: 0.32173, params: {'max_depth': 4, 'max_features': 13},\n",
       " mean: -0.98195, std: 0.27568, params: {'max_depth': 6, 'max_features': 1},\n",
       " mean: -1.00119, std: 0.28508, params: {'max_depth': 5, 'max_features': 5},\n",
       " mean: -1.00532, std: 0.10147, params: {'max_depth': 5, 'max_features': 8},\n",
       " mean: -1.00793, std: 0.24209, params: {'max_depth': 5, 'max_features': 7},\n",
       " mean: -1.01069, std: 0.32427, params: {'max_depth': 4, 'max_features': 9},\n",
       " mean: -1.13533, std: 0.31572, params: {'max_depth': 5, 'max_features': 10},\n",
       " mean: -1.18078, std: 0.37992, params: {'max_depth': 5, 'max_features': 6},\n",
       " mean: -1.22300, std: 0.34352, params: {'max_depth': 6, 'max_features': 2},\n",
       " mean: -1.23354, std: 0.31932, params: {'max_depth': 5, 'max_features': 11},\n",
       " mean: -1.24178, std: 0.45746, params: {'max_depth': 5, 'max_features': 9},\n",
       " mean: -1.24866, std: 0.25520, params: {'max_depth': 5, 'max_features': 12},\n",
       " mean: -1.28337, std: 0.25440, params: {'max_depth': 5, 'max_features': 13},\n",
       " mean: -1.29569, std: 0.20928, params: {'max_depth': 5, 'max_features': 1},\n",
       " mean: -1.31541, std: 0.17100, params: {'max_depth': 5, 'max_features': 14},\n",
       " mean: -1.49597, std: 0.27847, params: {'max_depth': 6, 'max_features': 6},\n",
       " mean: -1.51307, std: 0.20549, params: {'max_depth': 6, 'max_features': 11},\n",
       " mean: -1.52839, std: 0.43133, params: {'max_depth': 6, 'max_features': 3},\n",
       " mean: -1.54458, std: 0.17110, params: {'max_depth': 6, 'max_features': 5},\n",
       " mean: -1.63765, std: 0.23178, params: {'max_depth': 6, 'max_features': 7},\n",
       " mean: -1.74225, std: 0.32617, params: {'max_depth': 7, 'max_features': 1},\n",
       " mean: -1.75823, std: 0.37136, params: {'max_depth': 6, 'max_features': 4},\n",
       " mean: -1.76476, std: 0.51708, params: {'max_depth': 6, 'max_features': 10},\n",
       " mean: -1.78927, std: 0.09790, params: {'max_depth': 6, 'max_features': 12},\n",
       " mean: -1.88802, std: 0.29032, params: {'max_depth': 6, 'max_features': 8},\n",
       " mean: -1.92972, std: 0.15159, params: {'max_depth': 6, 'max_features': 13},\n",
       " mean: -1.93388, std: 0.71871, params: {'max_depth': 7, 'max_features': 2},\n",
       " mean: -2.02659, std: 0.42953, params: {'max_depth': 6, 'max_features': 14},\n",
       " mean: -2.03405, std: 0.35205, params: {'max_depth': 7, 'max_features': 7},\n",
       " mean: -2.11608, std: 0.51746, params: {'max_depth': 6, 'max_features': 9},\n",
       " mean: -2.21471, std: 0.38735, params: {'max_depth': 7, 'max_features': 5},\n",
       " mean: -2.24882, std: 0.53061, params: {'max_depth': 7, 'max_features': 11},\n",
       " mean: -2.27256, std: 0.28833, params: {'max_depth': 7, 'max_features': 9},\n",
       " mean: -2.28825, std: 0.38667, params: {'max_depth': 7, 'max_features': 6},\n",
       " mean: -2.33783, std: 0.37538, params: {'max_depth': 7, 'max_features': 4},\n",
       " mean: -2.38149, std: 0.13953, params: {'max_depth': 7, 'max_features': 13},\n",
       " mean: -2.40733, std: 0.70829, params: {'max_depth': 8, 'max_features': 1},\n",
       " mean: -2.44745, std: 0.67078, params: {'max_depth': 7, 'max_features': 8},\n",
       " mean: -2.47015, std: 0.40033, params: {'max_depth': 7, 'max_features': 3},\n",
       " mean: -2.50638, std: 0.66158, params: {'max_depth': 8, 'max_features': 3},\n",
       " mean: -2.53559, std: 0.38415, params: {'max_depth': 7, 'max_features': 12},\n",
       " mean: -2.53567, std: 0.39822, params: {'max_depth': 8, 'max_features': 2},\n",
       " mean: -2.61858, std: 0.20248, params: {'max_depth': 7, 'max_features': 14},\n",
       " mean: -2.69108, std: 0.84817, params: {'max_depth': 7, 'max_features': 10},\n",
       " mean: -2.70033, std: 0.63820, params: {'max_depth': 8, 'max_features': 6},\n",
       " mean: -2.91571, std: 0.82630, params: {'max_depth': 8, 'max_features': 4},\n",
       " mean: -2.95119, std: 0.41727, params: {'max_depth': 8, 'max_features': 5},\n",
       " mean: -2.95786, std: 0.96421, params: {'max_depth': 9, 'max_features': 4},\n",
       " mean: -3.04575, std: 0.29634, params: {'max_depth': 8, 'max_features': 12},\n",
       " mean: -3.07851, std: 0.60123, params: {'max_depth': 9, 'max_features': 2},\n",
       " mean: -3.08029, std: 0.50419, params: {'max_depth': 8, 'max_features': 13},\n",
       " mean: -3.11129, std: 0.55144, params: {'max_depth': 8, 'max_features': 7},\n",
       " mean: -3.12287, std: 0.46846, params: {'max_depth': 8, 'max_features': 14},\n",
       " mean: -3.16146, std: 0.67476, params: {'max_depth': 8, 'max_features': 10},\n",
       " mean: -3.32774, std: 0.79492, params: {'max_depth': 8, 'max_features': 8},\n",
       " mean: -3.38170, std: 1.29004, params: {'max_depth': 9, 'max_features': 5},\n",
       " mean: -3.48623, std: 0.45679, params: {'max_depth': 9, 'max_features': 1},\n",
       " mean: -3.54481, std: 0.46065, params: {'max_depth': 9, 'max_features': 6},\n",
       " mean: -3.61072, std: 0.76501, params: {'max_depth': 8, 'max_features': 9},\n",
       " mean: -3.68756, std: 0.49819, params: {'max_depth': 8, 'max_features': 11},\n",
       " mean: -3.78912, std: 0.74743, params: {'max_depth': 9, 'max_features': 7},\n",
       " mean: -3.83432, std: 0.64307, params: {'max_depth': 9, 'max_features': 3},\n",
       " mean: -3.92992, std: 0.38715, params: {'max_depth': 9, 'max_features': 11},\n",
       " mean: -3.94378, std: 0.44907, params: {'max_depth': 10, 'max_features': 7},\n",
       " mean: -3.97497, std: 0.54278, params: {'max_depth': 9, 'max_features': 10},\n",
       " mean: -4.12382, std: 0.74995, params: {'max_depth': 10, 'max_features': 2},\n",
       " mean: -4.18712, std: 0.31942, params: {'max_depth': 9, 'max_features': 8},\n",
       " mean: -4.18837, std: 0.58000, params: {'max_depth': 11, 'max_features': 2},\n",
       " mean: -4.22267, std: 0.39686, params: {'max_depth': 9, 'max_features': 14},\n",
       " mean: -4.24193, std: 0.38470, params: {'max_depth': 10, 'max_features': 4},\n",
       " mean: -4.25734, std: 0.83078, params: {'max_depth': 10, 'max_features': 5},\n",
       " mean: -4.28493, std: 0.24672, params: {'max_depth': 9, 'max_features': 13},\n",
       " mean: -4.35691, std: 0.52135, params: {'max_depth': 9, 'max_features': 12},\n",
       " mean: -4.37018, std: 0.97315, params: {'max_depth': 10, 'max_features': 3},\n",
       " mean: -4.37680, std: 0.85589, params: {'max_depth': 9, 'max_features': 9},\n",
       " mean: -4.62103, std: 0.60244, params: {'max_depth': 10, 'max_features': 14},\n",
       " mean: -4.64877, std: 0.63080, params: {'max_depth': 11, 'max_features': 1},\n",
       " mean: -4.68279, std: 1.07321, params: {'max_depth': 10, 'max_features': 1},\n",
       " mean: -4.70790, std: 1.06088, params: {'max_depth': 10, 'max_features': 8},\n",
       " mean: -4.72196, std: 0.74774, params: {'max_depth': 11, 'max_features': 5},\n",
       " mean: -4.81287, std: 0.73453, params: {'max_depth': 10, 'max_features': 12},\n",
       " mean: -4.81320, std: 0.58331, params: {'max_depth': 12, 'max_features': 5},\n",
       " mean: -4.82279, std: 0.88194, params: {'max_depth': 11, 'max_features': 4},\n",
       " mean: -4.82298, std: 0.50687, params: {'max_depth': 11, 'max_features': 3},\n",
       " mean: -4.83858, std: 0.46829, params: {'max_depth': 10, 'max_features': 9},\n",
       " mean: -4.93931, std: 0.34984, params: {'max_depth': 10, 'max_features': 10},\n",
       " mean: -4.95905, std: 0.81546, params: {'max_depth': 12, 'max_features': 3},\n",
       " mean: -5.00957, std: 0.46949, params: {'max_depth': 10, 'max_features': 13},\n",
       " mean: -5.02090, std: 0.56671, params: {'max_depth': 10, 'max_features': 6},\n",
       " mean: -5.09767, std: 0.71305, params: {'max_depth': 11, 'max_features': 10},\n",
       " mean: -5.11541, std: 0.95875, params: {'max_depth': 11, 'max_features': 9},\n",
       " mean: -5.24339, std: 0.69787, params: {'max_depth': 11, 'max_features': 14},\n",
       " mean: -5.38016, std: 0.96115, params: {'max_depth': 12, 'max_features': 8},\n",
       " mean: -5.41961, std: 0.73470, params: {'max_depth': 10, 'max_features': 11},\n",
       " mean: -5.49162, std: 1.10097, params: {'max_depth': 12, 'max_features': 1},\n",
       " mean: -5.49757, std: 1.02243, params: {'max_depth': 11, 'max_features': 12},\n",
       " mean: -5.50395, std: 0.79793, params: {'max_depth': 12, 'max_features': 9},\n",
       " mean: -5.59330, std: 0.75011, params: {'max_depth': 12, 'max_features': 7},\n",
       " mean: -5.59383, std: 0.97377, params: {'max_depth': 11, 'max_features': 6},\n",
       " mean: -5.64100, std: 0.46102, params: {'max_depth': 11, 'max_features': 8},\n",
       " mean: -5.69444, std: 1.44047, params: {'max_depth': 11, 'max_features': 7},\n",
       " mean: -5.77937, std: 0.72493, params: {'max_depth': 11, 'max_features': 11},\n",
       " mean: -5.78066, std: 0.38048, params: {'max_depth': 12, 'max_features': 4},\n",
       " mean: -5.78439, std: 0.71895, params: {'max_depth': 12, 'max_features': 2},\n",
       " mean: -5.89567, std: 0.83307, params: {'max_depth': 13, 'max_features': 3},\n",
       " mean: -5.89669, std: 0.52887, params: {'max_depth': 12, 'max_features': 6},\n",
       " mean: -5.89782, std: 0.99897, params: {'max_depth': 12, 'max_features': 12},\n",
       " mean: -5.93529, std: 0.61603, params: {'max_depth': 13, 'max_features': 2},\n",
       " mean: -5.94740, std: 0.63267, params: {'max_depth': 11, 'max_features': 13},\n",
       " mean: -6.00436, std: 0.87674, params: {'max_depth': 14, 'max_features': 4},\n",
       " mean: -6.11114, std: 0.85544, params: {'max_depth': 13, 'max_features': 6},\n",
       " mean: -6.11293, std: 1.11038, params: {'max_depth': 13, 'max_features': 7},\n",
       " mean: -6.12502, std: 0.86607, params: {'max_depth': 12, 'max_features': 10},\n",
       " mean: -6.14517, std: 0.60670, params: {'max_depth': 12, 'max_features': 11},\n",
       " mean: -6.14607, std: 0.66579, params: {'max_depth': 12, 'max_features': 14},\n",
       " mean: -6.23234, std: 0.90272, params: {'max_depth': 13, 'max_features': 9},\n",
       " mean: -6.32425, std: 1.31788, params: {'max_depth': 13, 'max_features': 4},\n",
       " mean: -6.36312, std: 0.61906, params: {'max_depth': 14, 'max_features': 10},\n",
       " mean: -6.43614, std: 0.66255, params: {'max_depth': 13, 'max_features': 12},\n",
       " mean: -6.44396, std: 0.68497, params: {'max_depth': 13, 'max_features': 8},\n",
       " mean: -6.44448, std: 0.77360, params: {'max_depth': 14, 'max_features': 2},\n",
       " mean: -6.45908, std: 0.91471, params: {'max_depth': 14, 'max_features': 5},\n",
       " mean: -6.45977, std: 0.65750, params: {'max_depth': 13, 'max_features': 5},\n",
       " mean: -6.65002, std: 0.67745, params: {'max_depth': 12, 'max_features': 13},\n",
       " mean: -6.69359, std: 1.02533, params: {'max_depth': 13, 'max_features': 13},\n",
       " mean: -6.71381, std: 0.61213, params: {'max_depth': 14, 'max_features': 14},\n",
       " mean: -6.72356, std: 0.50893, params: {'max_depth': 13, 'max_features': 1},\n",
       " mean: -6.74090, std: 0.48125, params: {'max_depth': 13, 'max_features': 14},\n",
       " mean: -6.74162, std: 0.77619, params: {'max_depth': 14, 'max_features': 9},\n",
       " mean: -6.75708, std: 0.95136, params: {'max_depth': 14, 'max_features': 11},\n",
       " mean: -6.77924, std: 1.18928, params: {'max_depth': 13, 'max_features': 10},\n",
       " mean: -6.80694, std: 0.90937, params: {'max_depth': 14, 'max_features': 3},\n",
       " mean: -6.85582, std: 0.93968, params: {'max_depth': 14, 'max_features': 8},\n",
       " mean: -6.89642, std: 0.61384, params: {'max_depth': 13, 'max_features': 11},\n",
       " mean: -6.92441, std: 0.74229, params: {'max_depth': 14, 'max_features': 1},\n",
       " mean: -6.93872, std: 1.13875, params: {'max_depth': 14, 'max_features': 12},\n",
       " mean: -6.94713, std: 1.09073, params: {'max_depth': 14, 'max_features': 13},\n",
       " mean: -6.99431, std: 0.28082, params: {'max_depth': 14, 'max_features': 7},\n",
       " mean: -7.02480, std: 0.85400, params: {'max_depth': 14, 'max_features': 6}]"
      ]
     },
     "execution_count": 90,
     "metadata": {},
     "output_type": "execute_result"
    }
   ],
   "source": [
    "sorted(gridsearch.grid_scores_, key = lambda x: -x.mean_validation_score)"
   ]
  },
  {
   "cell_type": "code",
   "execution_count": 91,
   "metadata": {},
   "outputs": [
    {
     "data": {
      "text/plain": [
       "{'max_depth': 3, 'max_features': 13}"
      ]
     },
     "execution_count": 91,
     "metadata": {},
     "output_type": "execute_result"
    }
   ],
   "source": [
    "gridsearch.best_params_   # лучшие параметры grid,  с которыми нужно работать"
   ]
  },
  {
   "cell_type": "code",
   "execution_count": 92,
   "metadata": {},
   "outputs": [
    {
     "data": {
      "text/plain": [
       "-0.43438166742947243"
      ]
     },
     "execution_count": 92,
     "metadata": {},
     "output_type": "execute_result"
    }
   ],
   "source": [
    "gridsearch.best_score_"
   ]
  },
  {
   "cell_type": "code",
   "execution_count": 93,
   "metadata": {
    "collapsed": true
   },
   "outputs": [],
   "source": [
    "clf_final = DecisionTreeClassifier(max_depth=3, max_features=13) # лучшие параметры из gridsearch"
   ]
  },
  {
   "cell_type": "markdown",
   "metadata": {},
   "source": [
    "Используем кросс-валидацию из средств sklearn"
   ]
  },
  {
   "cell_type": "code",
   "execution_count": 94,
   "metadata": {
    "collapsed": true
   },
   "outputs": [],
   "source": [
    "from sklearn.model_selection import StratifiedKFold, cross_val_score\n",
    "from sklearn.metrics import mean_squared_error"
   ]
  },
  {
   "cell_type": "code",
   "execution_count": 95,
   "metadata": {
    "collapsed": true
   },
   "outputs": [],
   "source": [
    "# используем встроенную кросс-валидацию; перед нарезкой кусков перемешивает Xtrain\n",
    "# пробуем разные варианты fold-ов, берем лучший вариант точности и с меньшим стандартным отклонением \n",
    "skf = StratifiedKFold(n_splits=5, shuffle=True, random_state=1)"
   ]
  },
  {
   "cell_type": "code",
   "execution_count": 96,
   "metadata": {
    "collapsed": true
   },
   "outputs": [],
   "source": [
    "# попытка подобрать лучшее количество фолдов\n",
    "#for i in range(2,15):\n",
    "#    scores = cross_val_score(clf_final, Xtrain_prep, y_train, cv=i)\n",
    "#    print(str(i)+ ' folds: ' + str(scores.mean()) + ' scores.mean()' )"
   ]
  },
  {
   "cell_type": "code",
   "execution_count": 97,
   "metadata": {},
   "outputs": [
    {
     "name": "stdout",
     "output_type": "stream",
     "text": [
      "mse: [0.19553072625698323, 0.21229050279329609, 0.21910112359550563, 0.19662921348314608, 0.16949152542372881]\n",
      "mse.mean:  0.19860861831053195\n"
     ]
    }
   ],
   "source": [
    "mse = []\n",
    "for train_ind, test_ind in skf.split(Xtrain_prep, y_train):\n",
    " \n",
    "    # обучающая часть\n",
    "    x_cv_train = Xtrain_prep.loc[train_ind]  \n",
    "    y_cv_train = y_train.loc[train_ind]\n",
    "    # предсказание\n",
    "    x_cv_test = Xtrain_prep.loc[test_ind]\n",
    "    y_cv_test = y_train.loc[test_ind]\n",
    "\n",
    "    # обучаем и предсказываем\n",
    "    clf_final.fit(x_cv_train, y_cv_train)\n",
    "    y_cv_pred=clf_final.predict(x_cv_test)\n",
    "    \n",
    "    # считаем ошибку\n",
    "    mse.append(mean_squared_error(y_cv_test, y_cv_pred))\n",
    "print('mse: {}'.format(mse))\n",
    "print('mse.mean: ',format(np.array(mse).mean()))"
   ]
  },
  {
   "cell_type": "code",
   "execution_count": 98,
   "metadata": {},
   "outputs": [
    {
     "data": {
      "text/plain": [
       "array([ 0.02832646,  0.08873553,  0.64271748,  0.        ,  0.18009683,\n",
       "        0.        ,  0.        ,  0.01206628,  0.04805743,  0.        ,\n",
       "        0.        ,  0.        ,  0.        ,  0.        ])"
      ]
     },
     "execution_count": 98,
     "metadata": {},
     "output_type": "execute_result"
    }
   ],
   "source": [
    "clf_final.feature_importances_"
   ]
  },
  {
   "cell_type": "code",
   "execution_count": 99,
   "metadata": {},
   "outputs": [
    {
     "data": {
      "text/plain": [
       "Index(['age', 'fare', 'sex_female', 'pclass_1', 'pclass_3', 'ticket_words_num',\n",
       "       'ticket_w_or_n', 'name_len', 'Mr.', 'Mrs.', 'cabin_3', 'cabin_b',\n",
       "       'cabin_d', 'cabin_e'],\n",
       "      dtype='object')"
      ]
     },
     "execution_count": 99,
     "metadata": {},
     "output_type": "execute_result"
    }
   ],
   "source": [
    "Xtrain_prep.columns"
   ]
  },
  {
   "cell_type": "markdown",
   "metadata": {},
   "source": [
    "Важными характеристиками оказались: \n",
    "* Указатель на пол: Sex_female\n",
    "* билет на палубе cabin 3\n",
    "* возраст age\n",
    "* зарплата принадлежность к определнному классу\n",
    "\n",
    "остальные менее значительные длина имени; возможно, что более длинное имя у богатых"
   ]
  },
  {
   "cell_type": "markdown",
   "metadata": {},
   "source": [
    "После обучения делаем предсказание"
   ]
  },
  {
   "cell_type": "code",
   "execution_count": 100,
   "metadata": {
    "collapsed": true
   },
   "outputs": [],
   "source": [
    "y_pred_proba = clf_final.predict_proba(Xtest_prep)\n",
    "y_pred = clf_final.predict(Xtest_prep)"
   ]
  },
  {
   "cell_type": "code",
   "execution_count": 101,
   "metadata": {},
   "outputs": [
    {
     "name": "stdout",
     "output_type": "stream",
     "text": [
      "[0 1 0 0 1 0 1 0 1 0 0 0 1 0 1 1 0 0 1 1 0 0 1 0 1 0 1 0 0 0 0 0 1 0 0 0 1\n",
      " 1 0 0 0 0 0 1 1 0 0 0 1 1 0 0 1 1 0 0 0 0 0 1 0 0 0 1 0 1 1 0 0 1 1 0 1 0\n",
      " 1 0 0 1 0 1 1 0 0 0 0 0 1 1 1 1 1 0 1 0 0 0 1 0 1 0 1 0 0 0 1 0 0 0 0 0 0\n",
      " 1 1 1 1 0 0 1 0 1 1 0 1 0 0 1 0 1 0 0 0 0 0 0 0 0 0 0 1 0 0 1 0 0 0 0 0 0\n",
      " 0 0 1 0 0 1 0 0 1 1 0 1 1 0 1 0 0 1 0 0 1 1 0 0 0 0 0 1 1 0 1 1 0 0 1 0 1\n",
      " 0 1 0 0 0 0 0 0 0 0 0 1 1 0 1 1 1 0 1 0 0 1 0 1 0 0 0 0 1 1 0 1 0 1 0 1 0\n",
      " 1 0 1 1 0 1 0 0 0 1 0 0 0 0 0 0 1 1 1 1 0 0 0 0 1 0 1 1 1 0 0 0 0 0 0 0 1\n",
      " 0 0 0 1 1 0 0 0 0 1 0 0 0 1 1 0 1 0 0 0 0 1 1 1 1 1 0 0 0 0 0 0 1 0 0 0 0\n",
      " 1 0 0 0 0 0 0 0 1 1 0 1 0 1 0 0 0 1 1 1 0 0 0 0 0 0 0 0 1 0 1 0 0 0 1 0 0\n",
      " 1 0 0 0 0 0 0 0 0 0 1 0 1 0 1 0 1 1 0 0 0 1 0 1 0 0 1 0 1 1 0 1 0 0 0 1 0\n",
      " 0 1 0 0 1 1 1 0 0 1 0 0 1 1 0 1 0 0 0 1 0 1 0 0 0 1 0 1 0 0 1 0 1 0 0 0 0\n",
      " 0 1 1 1 1 1 0 1 0 0 0]\n"
     ]
    }
   ],
   "source": [
    "print(y_pred)"
   ]
  },
  {
   "cell_type": "markdown",
   "metadata": {},
   "source": [
    "Формируем сабмит"
   ]
  },
  {
   "cell_type": "code",
   "execution_count": 102,
   "metadata": {
    "collapsed": true
   },
   "outputs": [],
   "source": [
    "submit = pd.DataFrame(y_pred, columns=sample_submission.columns[1:])\n",
    "submit['PassengerId'] = sample_submission.PassengerId\n",
    "submit = submit[[submit.columns[-1]]+list(submit.columns[:-1])]\n",
    "submit.to_csv('submit.csv', index=False)"
   ]
  },
  {
   "cell_type": "code",
   "execution_count": 103,
   "metadata": {},
   "outputs": [
    {
     "name": "stdout",
     "output_type": "stream",
     "text": [
      "<class 'pandas.core.frame.DataFrame'>\n",
      "RangeIndex: 418 entries, 0 to 417\n",
      "Data columns (total 2 columns):\n",
      "PassengerId    418 non-null int64\n",
      "Survived       418 non-null int64\n",
      "dtypes: int64(2)\n",
      "memory usage: 6.6 KB\n"
     ]
    }
   ],
   "source": [
    "sample_submission.info()"
   ]
  },
  {
   "cell_type": "markdown",
   "metadata": {},
   "source": [
    "Строим дерево"
   ]
  },
  {
   "cell_type": "code",
   "execution_count": 104,
   "metadata": {
    "collapsed": true
   },
   "outputs": [],
   "source": [
    "from sklearn.tree import export_graphviz\n",
    "\n",
    "#def get_tree_dot_view(clf, feature_names=None, class_names=None):\n",
    "#    print(export_graphviz(clf, out_file=None, filled=True, feature_names=feature_names, class_names=class_names))"
   ]
  },
  {
   "cell_type": "code",
   "execution_count": 105,
   "metadata": {
    "collapsed": true
   },
   "outputs": [],
   "source": [
    "import graphviz"
   ]
  },
  {
   "cell_type": "code",
   "execution_count": 118,
   "metadata": {},
   "outputs": [],
   "source": [
    "export_graphviz?"
   ]
  },
  {
   "cell_type": "code",
   "execution_count": 136,
   "metadata": {},
   "outputs": [
    {
     "data": {
      "text/plain": [
       "array([0, 1], dtype=int64)"
      ]
     },
     "execution_count": 136,
     "metadata": {},
     "output_type": "execute_result"
    }
   ],
   "source": [
    "# классы 0 - погиб, 1 - выжил\n",
    "clf_final.classes_"
   ]
  },
  {
   "cell_type": "code",
   "execution_count": 137,
   "metadata": {},
   "outputs": [],
   "source": [
    "export_graphviz(clf_final, out_file=\"mytree.dot\", filled=True, special_characters=True, \\\n",
    "               feature_names = list(Xtrain_prep.columns), class_names = True )\n"
   ]
  },
  {
   "cell_type": "code",
   "execution_count": 138,
   "metadata": {},
   "outputs": [
    {
     "data": {
      "image/svg+xml": [
       "<?xml version=\"1.0\" encoding=\"UTF-8\" standalone=\"no\"?>\r\n",
       "<!DOCTYPE svg PUBLIC \"-//W3C//DTD SVG 1.1//EN\"\r\n",
       " \"http://www.w3.org/Graphics/SVG/1.1/DTD/svg11.dtd\">\r\n",
       "<!-- Generated by graphviz version 2.38.0 (20140413.2041)\r\n",
       " -->\r\n",
       "<!-- Title: Tree Pages: 1 -->\r\n",
       "<svg width=\"944pt\" height=\"414pt\"\r\n",
       " viewBox=\"0.00 0.00 944.00 414.00\" xmlns=\"http://www.w3.org/2000/svg\" xmlns:xlink=\"http://www.w3.org/1999/xlink\">\r\n",
       "<g id=\"graph0\" class=\"graph\" transform=\"scale(1 1) rotate(0) translate(4 410)\">\r\n",
       "<title>Tree</title>\r\n",
       "<polygon fill=\"white\" stroke=\"none\" points=\"-4,4 -4,-410 940,-410 940,4 -4,4\"/>\r\n",
       "<!-- 0 -->\r\n",
       "<g id=\"node1\" class=\"node\"><title>0</title>\r\n",
       "<polygon fill=\"#e58139\" fill-opacity=\"0.376471\" stroke=\"black\" points=\"531,-406 413,-406 413,-328 531,-328 531,-406\"/>\r\n",
       "<text text-anchor=\"start\" x=\"424.5\" y=\"-391.8\" font-family=\"Times New Roman,serif\" font-size=\"14.00\">sex_female ≤ 0.5</text>\r\n",
       "<text text-anchor=\"start\" x=\"438.5\" y=\"-377.8\" font-family=\"Times New Roman,serif\" font-size=\"14.00\">gini = 0.473</text>\r\n",
       "<text text-anchor=\"start\" x=\"431\" y=\"-363.8\" font-family=\"Times New Roman,serif\" font-size=\"14.00\">samples = 714</text>\r\n",
       "<text text-anchor=\"start\" x=\"421\" y=\"-349.8\" font-family=\"Times New Roman,serif\" font-size=\"14.00\">value = [440, 274]</text>\r\n",
       "<text text-anchor=\"start\" x=\"443\" y=\"-335.8\" font-family=\"Times New Roman,serif\" font-size=\"14.00\">class = y</text>\r\n",
       "<text text-anchor=\"start\" x=\"494\" y=\"-335.8\" font-family=\"Times New Roman,serif\" baseline-shift=\"sub\" font-size=\"14.00\">0</text>\r\n",
       "</g>\r\n",
       "<!-- 1 -->\r\n",
       "<g id=\"node2\" class=\"node\"><title>1</title>\r\n",
       "<polygon fill=\"#e58139\" fill-opacity=\"0.760784\" stroke=\"black\" points=\"435.5,-292 324.5,-292 324.5,-214 435.5,-214 435.5,-292\"/>\r\n",
       "<text text-anchor=\"start\" x=\"353.5\" y=\"-277.8\" font-family=\"Times New Roman,serif\" font-size=\"14.00\">Mr. ≤ 0.5</text>\r\n",
       "<text text-anchor=\"start\" x=\"346.5\" y=\"-263.8\" font-family=\"Times New Roman,serif\" font-size=\"14.00\">gini = 0.311</text>\r\n",
       "<text text-anchor=\"start\" x=\"339\" y=\"-249.8\" font-family=\"Times New Roman,serif\" font-size=\"14.00\">samples = 463</text>\r\n",
       "<text text-anchor=\"start\" x=\"332.5\" y=\"-235.8\" font-family=\"Times New Roman,serif\" font-size=\"14.00\">value = [374, 89]</text>\r\n",
       "<text text-anchor=\"start\" x=\"351\" y=\"-221.8\" font-family=\"Times New Roman,serif\" font-size=\"14.00\">class = y</text>\r\n",
       "<text text-anchor=\"start\" x=\"402\" y=\"-221.8\" font-family=\"Times New Roman,serif\" baseline-shift=\"sub\" font-size=\"14.00\">0</text>\r\n",
       "</g>\r\n",
       "<!-- 0&#45;&gt;1 -->\r\n",
       "<g id=\"edge1\" class=\"edge\"><title>0&#45;&gt;1</title>\r\n",
       "<path fill=\"none\" stroke=\"black\" d=\"M440.596,-327.769C433.269,-318.849 425.39,-309.257 417.817,-300.038\"/>\r\n",
       "<polygon fill=\"black\" stroke=\"black\" points=\"420.314,-297.564 411.262,-292.058 414.905,-302.007 420.314,-297.564\"/>\r\n",
       "<text text-anchor=\"middle\" x=\"408.823\" y=\"-313.239\" font-family=\"Times New Roman,serif\" font-size=\"14.00\">True</text>\r\n",
       "</g>\r\n",
       "<!-- 8 -->\r\n",
       "<g id=\"node9\" class=\"node\"><title>8</title>\r\n",
       "<polygon fill=\"#399de5\" fill-opacity=\"0.643137\" stroke=\"black\" points=\"619.5,-292 508.5,-292 508.5,-214 619.5,-214 619.5,-292\"/>\r\n",
       "<text text-anchor=\"start\" x=\"523\" y=\"-277.8\" font-family=\"Times New Roman,serif\" font-size=\"14.00\">pclass_3 ≤ 0.5</text>\r\n",
       "<text text-anchor=\"start\" x=\"530.5\" y=\"-263.8\" font-family=\"Times New Roman,serif\" font-size=\"14.00\">gini = 0.388</text>\r\n",
       "<text text-anchor=\"start\" x=\"523\" y=\"-249.8\" font-family=\"Times New Roman,serif\" font-size=\"14.00\">samples = 251</text>\r\n",
       "<text text-anchor=\"start\" x=\"516.5\" y=\"-235.8\" font-family=\"Times New Roman,serif\" font-size=\"14.00\">value = [66, 185]</text>\r\n",
       "<text text-anchor=\"start\" x=\"535\" y=\"-221.8\" font-family=\"Times New Roman,serif\" font-size=\"14.00\">class = y</text>\r\n",
       "<text text-anchor=\"start\" x=\"586\" y=\"-221.8\" font-family=\"Times New Roman,serif\" baseline-shift=\"sub\" font-size=\"14.00\">1</text>\r\n",
       "</g>\r\n",
       "<!-- 0&#45;&gt;8 -->\r\n",
       "<g id=\"edge8\" class=\"edge\"><title>0&#45;&gt;8</title>\r\n",
       "<path fill=\"none\" stroke=\"black\" d=\"M503.404,-327.769C510.731,-318.849 518.61,-309.257 526.183,-300.038\"/>\r\n",
       "<polygon fill=\"black\" stroke=\"black\" points=\"529.095,-302.007 532.738,-292.058 523.686,-297.564 529.095,-302.007\"/>\r\n",
       "<text text-anchor=\"middle\" x=\"535.177\" y=\"-313.239\" font-family=\"Times New Roman,serif\" font-size=\"14.00\">False</text>\r\n",
       "</g>\r\n",
       "<!-- 2 -->\r\n",
       "<g id=\"node3\" class=\"node\"><title>2</title>\r\n",
       "<polygon fill=\"#e58139\" fill-opacity=\"0.184314\" stroke=\"black\" points=\"217,-178 113,-178 113,-100 217,-100 217,-178\"/>\r\n",
       "<text text-anchor=\"start\" x=\"139\" y=\"-163.8\" font-family=\"Times New Roman,serif\" font-size=\"14.00\">age ≤ 6.5</text>\r\n",
       "<text text-anchor=\"start\" x=\"131.5\" y=\"-149.8\" font-family=\"Times New Roman,serif\" font-size=\"14.00\">gini = 0.495</text>\r\n",
       "<text text-anchor=\"start\" x=\"127.5\" y=\"-135.8\" font-family=\"Times New Roman,serif\" font-size=\"14.00\">samples = 49</text>\r\n",
       "<text text-anchor=\"start\" x=\"121\" y=\"-121.8\" font-family=\"Times New Roman,serif\" font-size=\"14.00\">value = [27, 22]</text>\r\n",
       "<text text-anchor=\"start\" x=\"136\" y=\"-107.8\" font-family=\"Times New Roman,serif\" font-size=\"14.00\">class = y</text>\r\n",
       "<text text-anchor=\"start\" x=\"187\" y=\"-107.8\" font-family=\"Times New Roman,serif\" baseline-shift=\"sub\" font-size=\"14.00\">0</text>\r\n",
       "</g>\r\n",
       "<!-- 1&#45;&gt;2 -->\r\n",
       "<g id=\"edge2\" class=\"edge\"><title>1&#45;&gt;2</title>\r\n",
       "<path fill=\"none\" stroke=\"black\" d=\"M324.353,-223.012C294.23,-207.32 256.965,-187.907 226.047,-171.801\"/>\r\n",
       "<polygon fill=\"black\" stroke=\"black\" points=\"227.575,-168.651 217.089,-167.135 224.341,-174.859 227.575,-168.651\"/>\r\n",
       "</g>\r\n",
       "<!-- 5 -->\r\n",
       "<g id=\"node6\" class=\"node\"><title>5</title>\r\n",
       "<polygon fill=\"#e58139\" fill-opacity=\"0.807843\" stroke=\"black\" points=\"435.5,-178 324.5,-178 324.5,-100 435.5,-100 435.5,-178\"/>\r\n",
       "<text text-anchor=\"start\" x=\"343\" y=\"-163.8\" font-family=\"Times New Roman,serif\" font-size=\"14.00\">fare ≤ 26.269</text>\r\n",
       "<text text-anchor=\"start\" x=\"346.5\" y=\"-149.8\" font-family=\"Times New Roman,serif\" font-size=\"14.00\">gini = 0.271</text>\r\n",
       "<text text-anchor=\"start\" x=\"339\" y=\"-135.8\" font-family=\"Times New Roman,serif\" font-size=\"14.00\">samples = 414</text>\r\n",
       "<text text-anchor=\"start\" x=\"332.5\" y=\"-121.8\" font-family=\"Times New Roman,serif\" font-size=\"14.00\">value = [347, 67]</text>\r\n",
       "<text text-anchor=\"start\" x=\"351\" y=\"-107.8\" font-family=\"Times New Roman,serif\" font-size=\"14.00\">class = y</text>\r\n",
       "<text text-anchor=\"start\" x=\"402\" y=\"-107.8\" font-family=\"Times New Roman,serif\" baseline-shift=\"sub\" font-size=\"14.00\">0</text>\r\n",
       "</g>\r\n",
       "<!-- 1&#45;&gt;5 -->\r\n",
       "<g id=\"edge5\" class=\"edge\"><title>1&#45;&gt;5</title>\r\n",
       "<path fill=\"none\" stroke=\"black\" d=\"M380,-213.769C380,-205.57 380,-196.803 380,-188.28\"/>\r\n",
       "<polygon fill=\"black\" stroke=\"black\" points=\"383.5,-188.058 380,-178.058 376.5,-188.059 383.5,-188.058\"/>\r\n",
       "</g>\r\n",
       "<!-- 3 -->\r\n",
       "<g id=\"node4\" class=\"node\"><title>3</title>\r\n",
       "<polygon fill=\"#399de5\" fill-opacity=\"0.572549\" stroke=\"black\" points=\"98,-64 0,-64 0,-0 98,-0 98,-64\"/>\r\n",
       "<text text-anchor=\"start\" x=\"19\" y=\"-49.8\" font-family=\"Times New Roman,serif\" font-size=\"14.00\">gini = 0.42</text>\r\n",
       "<text text-anchor=\"start\" x=\"11.5\" y=\"-35.8\" font-family=\"Times New Roman,serif\" font-size=\"14.00\">samples = 20</text>\r\n",
       "<text text-anchor=\"start\" x=\"8\" y=\"-21.8\" font-family=\"Times New Roman,serif\" font-size=\"14.00\">value = [6, 14]</text>\r\n",
       "<text text-anchor=\"start\" x=\"20\" y=\"-7.8\" font-family=\"Times New Roman,serif\" font-size=\"14.00\">class = y</text>\r\n",
       "<text text-anchor=\"start\" x=\"71\" y=\"-7.8\" font-family=\"Times New Roman,serif\" baseline-shift=\"sub\" font-size=\"14.00\">1</text>\r\n",
       "</g>\r\n",
       "<!-- 2&#45;&gt;3 -->\r\n",
       "<g id=\"edge3\" class=\"edge\"><title>2&#45;&gt;3</title>\r\n",
       "<path fill=\"none\" stroke=\"black\" d=\"M122.793,-99.7956C112.368,-90.3587 101.205,-80.2547 90.7992,-70.8355\"/>\r\n",
       "<polygon fill=\"black\" stroke=\"black\" points=\"93.1397,-68.2332 83.3771,-64.1172 88.4421,-73.4229 93.1397,-68.2332\"/>\r\n",
       "</g>\r\n",
       "<!-- 4 -->\r\n",
       "<g id=\"node5\" class=\"node\"><title>4</title>\r\n",
       "<polygon fill=\"#e58139\" fill-opacity=\"0.619608\" stroke=\"black\" points=\"214,-64 116,-64 116,-0 214,-0 214,-64\"/>\r\n",
       "<text text-anchor=\"start\" x=\"138.5\" y=\"-49.8\" font-family=\"Times New Roman,serif\" font-size=\"14.00\">gini = 0.4</text>\r\n",
       "<text text-anchor=\"start\" x=\"127.5\" y=\"-35.8\" font-family=\"Times New Roman,serif\" font-size=\"14.00\">samples = 29</text>\r\n",
       "<text text-anchor=\"start\" x=\"124\" y=\"-21.8\" font-family=\"Times New Roman,serif\" font-size=\"14.00\">value = [21, 8]</text>\r\n",
       "<text text-anchor=\"start\" x=\"136\" y=\"-7.8\" font-family=\"Times New Roman,serif\" font-size=\"14.00\">class = y</text>\r\n",
       "<text text-anchor=\"start\" x=\"187\" y=\"-7.8\" font-family=\"Times New Roman,serif\" baseline-shift=\"sub\" font-size=\"14.00\">0</text>\r\n",
       "</g>\r\n",
       "<!-- 2&#45;&gt;4 -->\r\n",
       "<g id=\"edge4\" class=\"edge\"><title>2&#45;&gt;4</title>\r\n",
       "<path fill=\"none\" stroke=\"black\" d=\"M165,-99.7956C165,-91.4581 165,-82.6 165,-74.1534\"/>\r\n",
       "<polygon fill=\"black\" stroke=\"black\" points=\"168.5,-74.1171 165,-64.1172 161.5,-74.1172 168.5,-74.1171\"/>\r\n",
       "</g>\r\n",
       "<!-- 6 -->\r\n",
       "<g id=\"node7\" class=\"node\"><title>6</title>\r\n",
       "<polygon fill=\"#e58139\" fill-opacity=\"0.874510\" stroke=\"black\" points=\"343.5,-64 232.5,-64 232.5,-0 343.5,-0 343.5,-64\"/>\r\n",
       "<text text-anchor=\"start\" x=\"254.5\" y=\"-49.8\" font-family=\"Times New Roman,serif\" font-size=\"14.00\">gini = 0.199</text>\r\n",
       "<text text-anchor=\"start\" x=\"247\" y=\"-35.8\" font-family=\"Times New Roman,serif\" font-size=\"14.00\">samples = 312</text>\r\n",
       "<text text-anchor=\"start\" x=\"240.5\" y=\"-21.8\" font-family=\"Times New Roman,serif\" font-size=\"14.00\">value = [277, 35]</text>\r\n",
       "<text text-anchor=\"start\" x=\"259\" y=\"-7.8\" font-family=\"Times New Roman,serif\" font-size=\"14.00\">class = y</text>\r\n",
       "<text text-anchor=\"start\" x=\"310\" y=\"-7.8\" font-family=\"Times New Roman,serif\" baseline-shift=\"sub\" font-size=\"14.00\">0</text>\r\n",
       "</g>\r\n",
       "<!-- 5&#45;&gt;6 -->\r\n",
       "<g id=\"edge6\" class=\"edge\"><title>5&#45;&gt;6</title>\r\n",
       "<path fill=\"none\" stroke=\"black\" d=\"M346.526,-99.7956C338.498,-90.6335 329.919,-80.8428 321.874,-71.6603\"/>\r\n",
       "<polygon fill=\"black\" stroke=\"black\" points=\"324.487,-69.332 315.265,-64.1172 319.222,-73.9451 324.487,-69.332\"/>\r\n",
       "</g>\r\n",
       "<!-- 7 -->\r\n",
       "<g id=\"node8\" class=\"node\"><title>7</title>\r\n",
       "<polygon fill=\"#e58139\" fill-opacity=\"0.541176\" stroke=\"black\" points=\"466,-64 362,-64 362,-0 466,-0 466,-64\"/>\r\n",
       "<text text-anchor=\"start\" x=\"380.5\" y=\"-49.8\" font-family=\"Times New Roman,serif\" font-size=\"14.00\">gini = 0.431</text>\r\n",
       "<text text-anchor=\"start\" x=\"373\" y=\"-35.8\" font-family=\"Times New Roman,serif\" font-size=\"14.00\">samples = 102</text>\r\n",
       "<text text-anchor=\"start\" x=\"370\" y=\"-21.8\" font-family=\"Times New Roman,serif\" font-size=\"14.00\">value = [70, 32]</text>\r\n",
       "<text text-anchor=\"start\" x=\"385\" y=\"-7.8\" font-family=\"Times New Roman,serif\" font-size=\"14.00\">class = y</text>\r\n",
       "<text text-anchor=\"start\" x=\"436\" y=\"-7.8\" font-family=\"Times New Roman,serif\" baseline-shift=\"sub\" font-size=\"14.00\">0</text>\r\n",
       "</g>\r\n",
       "<!-- 5&#45;&gt;7 -->\r\n",
       "<g id=\"edge7\" class=\"edge\"><title>5&#45;&gt;7</title>\r\n",
       "<path fill=\"none\" stroke=\"black\" d=\"M392.371,-99.7956C395.1,-91.3665 398.002,-82.4053 400.764,-73.8751\"/>\r\n",
       "<polygon fill=\"black\" stroke=\"black\" points=\"404.173,-74.7091 403.924,-64.1172 397.513,-72.5526 404.173,-74.7091\"/>\r\n",
       "</g>\r\n",
       "<!-- 9 -->\r\n",
       "<g id=\"node10\" class=\"node\"><title>9</title>\r\n",
       "<polygon fill=\"#399de5\" fill-opacity=\"0.945098\" stroke=\"black\" points=\"618,-178 510,-178 510,-100 618,-100 618,-178\"/>\r\n",
       "<text text-anchor=\"start\" x=\"518\" y=\"-163.8\" font-family=\"Times New Roman,serif\" font-size=\"14.00\">name_len ≤ 14.5</text>\r\n",
       "<text text-anchor=\"start\" x=\"530.5\" y=\"-149.8\" font-family=\"Times New Roman,serif\" font-size=\"14.00\">gini = 0.097</text>\r\n",
       "<text text-anchor=\"start\" x=\"523\" y=\"-135.8\" font-family=\"Times New Roman,serif\" font-size=\"14.00\">samples = 137</text>\r\n",
       "<text text-anchor=\"start\" x=\"520\" y=\"-121.8\" font-family=\"Times New Roman,serif\" font-size=\"14.00\">value = [7, 130]</text>\r\n",
       "<text text-anchor=\"start\" x=\"535\" y=\"-107.8\" font-family=\"Times New Roman,serif\" font-size=\"14.00\">class = y</text>\r\n",
       "<text text-anchor=\"start\" x=\"586\" y=\"-107.8\" font-family=\"Times New Roman,serif\" baseline-shift=\"sub\" font-size=\"14.00\">1</text>\r\n",
       "</g>\r\n",
       "<!-- 8&#45;&gt;9 -->\r\n",
       "<g id=\"edge9\" class=\"edge\"><title>8&#45;&gt;9</title>\r\n",
       "<path fill=\"none\" stroke=\"black\" d=\"M564,-213.769C564,-205.57 564,-196.803 564,-188.28\"/>\r\n",
       "<polygon fill=\"black\" stroke=\"black\" points=\"567.5,-188.058 564,-178.058 560.5,-188.059 567.5,-188.058\"/>\r\n",
       "</g>\r\n",
       "<!-- 12 -->\r\n",
       "<g id=\"node13\" class=\"node\"><title>12</title>\r\n",
       "<polygon fill=\"#e58139\" fill-opacity=\"0.066667\" stroke=\"black\" points=\"820,-178 716,-178 716,-100 820,-100 820,-178\"/>\r\n",
       "<text text-anchor=\"start\" x=\"734.5\" y=\"-163.8\" font-family=\"Times New Roman,serif\" font-size=\"14.00\">fare ≤ 23.35</text>\r\n",
       "<text text-anchor=\"start\" x=\"734.5\" y=\"-149.8\" font-family=\"Times New Roman,serif\" font-size=\"14.00\">gini = 0.499</text>\r\n",
       "<text text-anchor=\"start\" x=\"727\" y=\"-135.8\" font-family=\"Times New Roman,serif\" font-size=\"14.00\">samples = 114</text>\r\n",
       "<text text-anchor=\"start\" x=\"724\" y=\"-121.8\" font-family=\"Times New Roman,serif\" font-size=\"14.00\">value = [59, 55]</text>\r\n",
       "<text text-anchor=\"start\" x=\"739\" y=\"-107.8\" font-family=\"Times New Roman,serif\" font-size=\"14.00\">class = y</text>\r\n",
       "<text text-anchor=\"start\" x=\"790\" y=\"-107.8\" font-family=\"Times New Roman,serif\" baseline-shift=\"sub\" font-size=\"14.00\">0</text>\r\n",
       "</g>\r\n",
       "<!-- 8&#45;&gt;12 -->\r\n",
       "<g id=\"edge12\" class=\"edge\"><title>8&#45;&gt;12</title>\r\n",
       "<path fill=\"none\" stroke=\"black\" d=\"M619.744,-221.396C646.782,-206.551 679.322,-188.686 707.02,-173.479\"/>\r\n",
       "<polygon fill=\"black\" stroke=\"black\" points=\"708.748,-176.524 715.829,-168.643 705.379,-170.387 708.748,-176.524\"/>\r\n",
       "</g>\r\n",
       "<!-- 10 -->\r\n",
       "<g id=\"node11\" class=\"node\"><title>10</title>\r\n",
       "<polygon fill=\"#e58139\" stroke=\"black\" points=\"575.5,-64 484.5,-64 484.5,-0 575.5,-0 575.5,-64\"/>\r\n",
       "<text text-anchor=\"start\" x=\"503.5\" y=\"-49.8\" font-family=\"Times New Roman,serif\" font-size=\"14.00\">gini = 0.0</text>\r\n",
       "<text text-anchor=\"start\" x=\"496\" y=\"-35.8\" font-family=\"Times New Roman,serif\" font-size=\"14.00\">samples = 1</text>\r\n",
       "<text text-anchor=\"start\" x=\"492.5\" y=\"-21.8\" font-family=\"Times New Roman,serif\" font-size=\"14.00\">value = [1, 0]</text>\r\n",
       "<text text-anchor=\"start\" x=\"501\" y=\"-7.8\" font-family=\"Times New Roman,serif\" font-size=\"14.00\">class = y</text>\r\n",
       "<text text-anchor=\"start\" x=\"552\" y=\"-7.8\" font-family=\"Times New Roman,serif\" baseline-shift=\"sub\" font-size=\"14.00\">0</text>\r\n",
       "</g>\r\n",
       "<!-- 9&#45;&gt;10 -->\r\n",
       "<g id=\"edge10\" class=\"edge\"><title>9&#45;&gt;10</title>\r\n",
       "<path fill=\"none\" stroke=\"black\" d=\"M551.629,-99.7956C548.9,-91.3665 545.998,-82.4053 543.236,-73.8751\"/>\r\n",
       "<polygon fill=\"black\" stroke=\"black\" points=\"546.487,-72.5526 540.076,-64.1172 539.827,-74.7091 546.487,-72.5526\"/>\r\n",
       "</g>\r\n",
       "<!-- 11 -->\r\n",
       "<g id=\"node12\" class=\"node\"><title>11</title>\r\n",
       "<polygon fill=\"#399de5\" fill-opacity=\"0.952941\" stroke=\"black\" points=\"698,-64 594,-64 594,-0 698,-0 698,-64\"/>\r\n",
       "<text text-anchor=\"start\" x=\"612.5\" y=\"-49.8\" font-family=\"Times New Roman,serif\" font-size=\"14.00\">gini = 0.084</text>\r\n",
       "<text text-anchor=\"start\" x=\"605\" y=\"-35.8\" font-family=\"Times New Roman,serif\" font-size=\"14.00\">samples = 136</text>\r\n",
       "<text text-anchor=\"start\" x=\"602\" y=\"-21.8\" font-family=\"Times New Roman,serif\" font-size=\"14.00\">value = [6, 130]</text>\r\n",
       "<text text-anchor=\"start\" x=\"617\" y=\"-7.8\" font-family=\"Times New Roman,serif\" font-size=\"14.00\">class = y</text>\r\n",
       "<text text-anchor=\"start\" x=\"668\" y=\"-7.8\" font-family=\"Times New Roman,serif\" baseline-shift=\"sub\" font-size=\"14.00\">1</text>\r\n",
       "</g>\r\n",
       "<!-- 9&#45;&gt;11 -->\r\n",
       "<g id=\"edge11\" class=\"edge\"><title>9&#45;&gt;11</title>\r\n",
       "<path fill=\"none\" stroke=\"black\" d=\"M593.836,-99.7956C600.848,-90.8168 608.331,-81.2341 615.377,-72.2119\"/>\r\n",
       "<polygon fill=\"black\" stroke=\"black\" points=\"618.302,-74.1528 621.699,-64.1172 612.785,-69.8443 618.302,-74.1528\"/>\r\n",
       "</g>\r\n",
       "<!-- 13 -->\r\n",
       "<g id=\"node14\" class=\"node\"><title>13</title>\r\n",
       "<polygon fill=\"#399de5\" fill-opacity=\"0.227451\" stroke=\"black\" points=\"820,-64 716,-64 716,-0 820,-0 820,-64\"/>\r\n",
       "<text text-anchor=\"start\" x=\"734.5\" y=\"-49.8\" font-family=\"Times New Roman,serif\" font-size=\"14.00\">gini = 0.492</text>\r\n",
       "<text text-anchor=\"start\" x=\"730.5\" y=\"-35.8\" font-family=\"Times New Roman,serif\" font-size=\"14.00\">samples = 94</text>\r\n",
       "<text text-anchor=\"start\" x=\"724\" y=\"-21.8\" font-family=\"Times New Roman,serif\" font-size=\"14.00\">value = [41, 53]</text>\r\n",
       "<text text-anchor=\"start\" x=\"739\" y=\"-7.8\" font-family=\"Times New Roman,serif\" font-size=\"14.00\">class = y</text>\r\n",
       "<text text-anchor=\"start\" x=\"790\" y=\"-7.8\" font-family=\"Times New Roman,serif\" baseline-shift=\"sub\" font-size=\"14.00\">1</text>\r\n",
       "</g>\r\n",
       "<!-- 12&#45;&gt;13 -->\r\n",
       "<g id=\"edge13\" class=\"edge\"><title>12&#45;&gt;13</title>\r\n",
       "<path fill=\"none\" stroke=\"black\" d=\"M768,-99.7956C768,-91.4581 768,-82.6 768,-74.1534\"/>\r\n",
       "<polygon fill=\"black\" stroke=\"black\" points=\"771.5,-74.1171 768,-64.1172 764.5,-74.1172 771.5,-74.1171\"/>\r\n",
       "</g>\r\n",
       "<!-- 14 -->\r\n",
       "<g id=\"node15\" class=\"node\"><title>14</title>\r\n",
       "<polygon fill=\"#e58139\" fill-opacity=\"0.890196\" stroke=\"black\" points=\"936,-64 838,-64 838,-0 936,-0 936,-64\"/>\r\n",
       "<text text-anchor=\"start\" x=\"857\" y=\"-49.8\" font-family=\"Times New Roman,serif\" font-size=\"14.00\">gini = 0.18</text>\r\n",
       "<text text-anchor=\"start\" x=\"849.5\" y=\"-35.8\" font-family=\"Times New Roman,serif\" font-size=\"14.00\">samples = 20</text>\r\n",
       "<text text-anchor=\"start\" x=\"846\" y=\"-21.8\" font-family=\"Times New Roman,serif\" font-size=\"14.00\">value = [18, 2]</text>\r\n",
       "<text text-anchor=\"start\" x=\"858\" y=\"-7.8\" font-family=\"Times New Roman,serif\" font-size=\"14.00\">class = y</text>\r\n",
       "<text text-anchor=\"start\" x=\"909\" y=\"-7.8\" font-family=\"Times New Roman,serif\" baseline-shift=\"sub\" font-size=\"14.00\">0</text>\r\n",
       "</g>\r\n",
       "<!-- 12&#45;&gt;14 -->\r\n",
       "<g id=\"edge14\" class=\"edge\"><title>12&#45;&gt;14</title>\r\n",
       "<path fill=\"none\" stroke=\"black\" d=\"M811.298,-99.7956C821.993,-90.3587 833.445,-80.2547 844.12,-70.8355\"/>\r\n",
       "<polygon fill=\"black\" stroke=\"black\" points=\"846.551,-73.3579 851.734,-64.1172 841.92,-68.109 846.551,-73.3579\"/>\r\n",
       "</g>\r\n",
       "</g>\r\n",
       "</svg>\r\n"
      ],
      "text/plain": [
       "<graphviz.files.Source at 0x2508b4f8160>"
      ]
     },
     "execution_count": 138,
     "metadata": {},
     "output_type": "execute_result"
    }
   ],
   "source": [
    "with open(\"mytree.dot\") as f:\n",
    "    dot_graph = f.read()\n",
    "graphviz.Source(dot_graph)"
   ]
  },
  {
   "cell_type": "code",
   "execution_count": null,
   "metadata": {
    "collapsed": true
   },
   "outputs": [],
   "source": []
  },
  {
   "cell_type": "code",
   "execution_count": null,
   "metadata": {
    "collapsed": true
   },
   "outputs": [],
   "source": []
  },
  {
   "cell_type": "code",
   "execution_count": null,
   "metadata": {
    "collapsed": true
   },
   "outputs": [],
   "source": []
  }
 ],
 "metadata": {
  "kernelspec": {
   "display_name": "Python 3",
   "language": "python",
   "name": "python3"
  },
  "language_info": {
   "codemirror_mode": {
    "name": "ipython",
    "version": 3
   },
   "file_extension": ".py",
   "mimetype": "text/x-python",
   "name": "python",
   "nbconvert_exporter": "python",
   "pygments_lexer": "ipython3",
   "version": "3.6.2"
  }
 },
 "nbformat": 4,
 "nbformat_minor": 2
}
