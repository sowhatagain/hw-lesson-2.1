{
 "cells": [
  {
   "cell_type": "markdown",
   "metadata": {},
   "source": [
    "# Расчет AUC-ROC и AUC-PR(C)"
   ]
  },
  {
   "cell_type": "code",
   "execution_count": 9,
   "metadata": {
    "collapsed": true
   },
   "outputs": [],
   "source": [
    "import numpy as np\n",
    "import sklearn as skl\n",
    "from sklearn.metrics import *\n",
    "import pandas as pd"
   ]
  },
  {
   "cell_type": "markdown",
   "metadata": {},
   "source": [
    "создадим функцию, которая для заданого порога по вектору вероятности выдает конечные значения класса \n",
    "(расчет только для бинарных случаев)"
   ]
  },
  {
   "cell_type": "code",
   "execution_count": 4,
   "metadata": {
    "collapsed": true
   },
   "outputs": [],
   "source": [
    "def thres(th, pr): # th - пороговое значение, pr - вектор вероятности принадлежности к классу\n",
    "    proba=np.zeros((len(pr),1))\n",
    "    for i in range(0,len(pr)):\n",
    "        if pr[i]<th:\n",
    "            proba[i]=0\n",
    "        else: \n",
    "            proba[i]=1\n",
    "        #print(th, pr[i], proba[i])\n",
    "    return proba  # возвращает вектор только с 0 или 1"
   ]
  },
  {
   "cell_type": "markdown",
   "metadata": {},
   "source": [
    "Функция AUC-PR(C)"
   ]
  },
  {
   "cell_type": "code",
   "execution_count": 72,
   "metadata": {
    "collapsed": true
   },
   "outputs": [],
   "source": [
    "# Y_test - истинные значения\n",
    "# Y_pred - вектор вероятностей\n",
    "# thr - порог, задавать в сотых, десятых долях единицы, для выбора шага порога при расчета точек графика\n",
    "def auc_prc( Y_test, Y_pred, thr): \n",
    "    area = 0 # площадь\n",
    "    prc_i, prc = 0, 0 # текущее и предыдущие значения prc, ось Y\n",
    "    rec_i, rec = 0, 0 # текущее и предыдущее значения rec, ось X\n",
    "    \n",
    "    # с заданным порогом вычисляем точки графика AUC-PR(C)\n",
    "    for i in range(0 , int(1/thr)):\n",
    "        \n",
    "        a = thres(0.01+i*thr, Y_pred) # значения вектора вероятностей при определенном пороге\n",
    "        prc = precision_score(Y_test, a) #ось Y\n",
    "        rec = recall_score(Y_test,a)     #ось X\n",
    "        \n",
    "        # S = S прямоугольника + S треугольника, образованных координатами \n",
    "        if (prc > 0 and prc_i >0): \n",
    "            area +=  np.abs(rec-rec_i)*min(prc_i,prc)+0.5*np.abs(rec-rec_i)*np.abs(prc-prc_i)\n",
    "   \n",
    "        prc_i=prc\n",
    "        rec_i=rec\n",
    "        #print(prc, rec,area)\n",
    "    return area"
   ]
  },
  {
   "cell_type": "markdown",
   "metadata": {},
   "source": [
    "Функция AUC-ROC"
   ]
  },
  {
   "cell_type": "code",
   "execution_count": 74,
   "metadata": {
    "collapsed": true
   },
   "outputs": [],
   "source": [
    "# Y_test - истинные значения\n",
    "# Y_pred - вектор вероятностей\n",
    "# thr - порог, задавать в сотых, десятых долях единицы, для выбора шага порога при расчета точек графика\n",
    "def auc_roc( Y_test, Y_pred, thr):\n",
    "    area = 0  # площадь\n",
    "    tpr_i, tpr = 0, 0  # текущее и предыдущие значения tpr, ось Y\n",
    "    fpr_i, fpr = 0, 0  # текущее и предыдущее значения rec, ось X\n",
    "\n",
    "    for i in range(0 , int(1/thr)):\n",
    "        a = thres(0.01+i*thr, Y_pred)  # оценка вероятности события при данном пороге вектора\n",
    "        \n",
    "        # расчет fpr при заданном пороге\n",
    "        fp, tn = 0, 0\n",
    "        prdct = thres(thr, Y_pred)\n",
    "        y_t = np.array(Y_test)\n",
    "        for i in range(0, len(prdct)):   \n",
    "            #print(i, y_t[i], prdct[i])\n",
    "            if ( int(y_t[i] == 0) and int(a[i] == 1)):\n",
    "                fp += 1      \n",
    "            elif ((y_t[i] == 0) & (a[i] == 0)):\n",
    "                tn += 1\n",
    "        #print(fp , tn)    \n",
    "        fpr = fp/(fp+tn)  # ось X\n",
    "        #print(fpr)\n",
    "        # end fpr count     \n",
    "        \n",
    "        tpr = recall_score(Y_test,a)     #ось Y\n",
    "        \n",
    "        # S = S прямоугольника + S треугольника, образованных координатами    \n",
    "        if (tpr > 0 and tpr_i >0):\n",
    "            area += np.abs(fpr-fpr_i)*min(tpr_i,tpr)+0.5*np.abs(fpr-fpr_i)*np.abs(tpr-tpr_i)\n",
    "   \n",
    "        tpr_i=tpr\n",
    "        fpr_i=fpr\n",
    "        #print(prc, rec,area)\n",
    "    return area"
   ]
  },
  {
   "cell_type": "markdown",
   "metadata": {},
   "source": [
    "Проверим созданые функции на кейсе Affair (просматривали на одном из занятий)"
   ]
  },
  {
   "cell_type": "code",
   "execution_count": 11,
   "metadata": {},
   "outputs": [
    {
     "data": {
      "text/html": [
       "<div>\n",
       "<style>\n",
       "    .dataframe thead tr:only-child th {\n",
       "        text-align: right;\n",
       "    }\n",
       "\n",
       "    .dataframe thead th {\n",
       "        text-align: left;\n",
       "    }\n",
       "\n",
       "    .dataframe tbody tr th {\n",
       "        vertical-align: top;\n",
       "    }\n",
       "</style>\n",
       "<table border=\"1\" class=\"dataframe\">\n",
       "  <thead>\n",
       "    <tr style=\"text-align: right;\">\n",
       "      <th></th>\n",
       "      <th>rate_marriage</th>\n",
       "      <th>age</th>\n",
       "      <th>yrs_married</th>\n",
       "      <th>children</th>\n",
       "      <th>religious</th>\n",
       "      <th>educ</th>\n",
       "      <th>occupation</th>\n",
       "      <th>occupation_husb</th>\n",
       "      <th>affair</th>\n",
       "    </tr>\n",
       "  </thead>\n",
       "  <tbody>\n",
       "    <tr>\n",
       "      <th>0</th>\n",
       "      <td>3.0</td>\n",
       "      <td>32.0</td>\n",
       "      <td>9.0</td>\n",
       "      <td>3.0</td>\n",
       "      <td>3.0</td>\n",
       "      <td>17.0</td>\n",
       "      <td>2.0</td>\n",
       "      <td>5.0</td>\n",
       "      <td>1</td>\n",
       "    </tr>\n",
       "    <tr>\n",
       "      <th>1</th>\n",
       "      <td>3.0</td>\n",
       "      <td>27.0</td>\n",
       "      <td>13.0</td>\n",
       "      <td>3.0</td>\n",
       "      <td>1.0</td>\n",
       "      <td>14.0</td>\n",
       "      <td>3.0</td>\n",
       "      <td>4.0</td>\n",
       "      <td>1</td>\n",
       "    </tr>\n",
       "    <tr>\n",
       "      <th>2</th>\n",
       "      <td>4.0</td>\n",
       "      <td>22.0</td>\n",
       "      <td>2.5</td>\n",
       "      <td>0.0</td>\n",
       "      <td>1.0</td>\n",
       "      <td>16.0</td>\n",
       "      <td>3.0</td>\n",
       "      <td>5.0</td>\n",
       "      <td>1</td>\n",
       "    </tr>\n",
       "    <tr>\n",
       "      <th>3</th>\n",
       "      <td>4.0</td>\n",
       "      <td>37.0</td>\n",
       "      <td>16.5</td>\n",
       "      <td>4.0</td>\n",
       "      <td>3.0</td>\n",
       "      <td>16.0</td>\n",
       "      <td>5.0</td>\n",
       "      <td>5.0</td>\n",
       "      <td>1</td>\n",
       "    </tr>\n",
       "    <tr>\n",
       "      <th>4</th>\n",
       "      <td>5.0</td>\n",
       "      <td>27.0</td>\n",
       "      <td>9.0</td>\n",
       "      <td>1.0</td>\n",
       "      <td>1.0</td>\n",
       "      <td>14.0</td>\n",
       "      <td>3.0</td>\n",
       "      <td>4.0</td>\n",
       "      <td>1</td>\n",
       "    </tr>\n",
       "  </tbody>\n",
       "</table>\n",
       "</div>"
      ],
      "text/plain": [
       "   rate_marriage   age  yrs_married  children  religious  educ  occupation  \\\n",
       "0            3.0  32.0          9.0       3.0        3.0  17.0         2.0   \n",
       "1            3.0  27.0         13.0       3.0        1.0  14.0         3.0   \n",
       "2            4.0  22.0          2.5       0.0        1.0  16.0         3.0   \n",
       "3            4.0  37.0         16.5       4.0        3.0  16.0         5.0   \n",
       "4            5.0  27.0          9.0       1.0        1.0  14.0         3.0   \n",
       "\n",
       "   occupation_husb  affair  \n",
       "0              5.0       1  \n",
       "1              4.0       1  \n",
       "2              5.0       1  \n",
       "3              5.0       1  \n",
       "4              4.0       1  "
      ]
     },
     "execution_count": 11,
     "metadata": {},
     "output_type": "execute_result"
    }
   ],
   "source": [
    "data = pd.read_csv('affair_data.csv')\n",
    "data.head()"
   ]
  },
  {
   "cell_type": "code",
   "execution_count": 12,
   "metadata": {
    "collapsed": true
   },
   "outputs": [],
   "source": [
    "# модель предсказывает вероятность интрижки\n",
    "from sklearn.linear_model import LogisticRegression"
   ]
  },
  {
   "cell_type": "code",
   "execution_count": 14,
   "metadata": {},
   "outputs": [
    {
     "data": {
      "text/html": [
       "<div>\n",
       "<style>\n",
       "    .dataframe thead tr:only-child th {\n",
       "        text-align: right;\n",
       "    }\n",
       "\n",
       "    .dataframe thead th {\n",
       "        text-align: left;\n",
       "    }\n",
       "\n",
       "    .dataframe tbody tr th {\n",
       "        vertical-align: top;\n",
       "    }\n",
       "</style>\n",
       "<table border=\"1\" class=\"dataframe\">\n",
       "  <thead>\n",
       "    <tr style=\"text-align: right;\">\n",
       "      <th></th>\n",
       "      <th>rate_marriage</th>\n",
       "      <th>age</th>\n",
       "      <th>yrs_married</th>\n",
       "      <th>children</th>\n",
       "      <th>educ</th>\n",
       "      <th>affair</th>\n",
       "      <th>occupation_1.0</th>\n",
       "      <th>occupation_2.0</th>\n",
       "      <th>occupation_3.0</th>\n",
       "      <th>occupation_4.0</th>\n",
       "      <th>...</th>\n",
       "      <th>occupation_husb_1.0</th>\n",
       "      <th>occupation_husb_2.0</th>\n",
       "      <th>occupation_husb_3.0</th>\n",
       "      <th>occupation_husb_4.0</th>\n",
       "      <th>occupation_husb_5.0</th>\n",
       "      <th>occupation_husb_6.0</th>\n",
       "      <th>religious_1.0</th>\n",
       "      <th>religious_2.0</th>\n",
       "      <th>religious_3.0</th>\n",
       "      <th>religious_4.0</th>\n",
       "    </tr>\n",
       "  </thead>\n",
       "  <tbody>\n",
       "    <tr>\n",
       "      <th>0</th>\n",
       "      <td>3.0</td>\n",
       "      <td>32.0</td>\n",
       "      <td>9.0</td>\n",
       "      <td>3.0</td>\n",
       "      <td>17.0</td>\n",
       "      <td>1</td>\n",
       "      <td>0</td>\n",
       "      <td>1</td>\n",
       "      <td>0</td>\n",
       "      <td>0</td>\n",
       "      <td>...</td>\n",
       "      <td>0</td>\n",
       "      <td>0</td>\n",
       "      <td>0</td>\n",
       "      <td>0</td>\n",
       "      <td>1</td>\n",
       "      <td>0</td>\n",
       "      <td>0</td>\n",
       "      <td>0</td>\n",
       "      <td>1</td>\n",
       "      <td>0</td>\n",
       "    </tr>\n",
       "    <tr>\n",
       "      <th>1</th>\n",
       "      <td>3.0</td>\n",
       "      <td>27.0</td>\n",
       "      <td>13.0</td>\n",
       "      <td>3.0</td>\n",
       "      <td>14.0</td>\n",
       "      <td>1</td>\n",
       "      <td>0</td>\n",
       "      <td>0</td>\n",
       "      <td>1</td>\n",
       "      <td>0</td>\n",
       "      <td>...</td>\n",
       "      <td>0</td>\n",
       "      <td>0</td>\n",
       "      <td>0</td>\n",
       "      <td>1</td>\n",
       "      <td>0</td>\n",
       "      <td>0</td>\n",
       "      <td>1</td>\n",
       "      <td>0</td>\n",
       "      <td>0</td>\n",
       "      <td>0</td>\n",
       "    </tr>\n",
       "  </tbody>\n",
       "</table>\n",
       "<p>2 rows × 22 columns</p>\n",
       "</div>"
      ],
      "text/plain": [
       "   rate_marriage   age  yrs_married  children  educ  affair  occupation_1.0  \\\n",
       "0            3.0  32.0          9.0       3.0  17.0       1               0   \n",
       "1            3.0  27.0         13.0       3.0  14.0       1               0   \n",
       "\n",
       "   occupation_2.0  occupation_3.0  occupation_4.0      ...        \\\n",
       "0               1               0               0      ...         \n",
       "1               0               1               0      ...         \n",
       "\n",
       "   occupation_husb_1.0  occupation_husb_2.0  occupation_husb_3.0  \\\n",
       "0                    0                    0                    0   \n",
       "1                    0                    0                    0   \n",
       "\n",
       "   occupation_husb_4.0  occupation_husb_5.0  occupation_husb_6.0  \\\n",
       "0                    0                    1                    0   \n",
       "1                    1                    0                    0   \n",
       "\n",
       "   religious_1.0  religious_2.0  religious_3.0  religious_4.0  \n",
       "0              0              0              1              0  \n",
       "1              1              0              0              0  \n",
       "\n",
       "[2 rows x 22 columns]"
      ]
     },
     "execution_count": 14,
     "metadata": {},
     "output_type": "execute_result"
    }
   ],
   "source": [
    "X  = pd.get_dummies(data, columns=['occupation','occupation_husb','religious'])\n",
    "X.head(2)"
   ]
  },
  {
   "cell_type": "code",
   "execution_count": 17,
   "metadata": {},
   "outputs": [],
   "source": [
    "del X['affair']"
   ]
  },
  {
   "cell_type": "code",
   "execution_count": 24,
   "metadata": {},
   "outputs": [
    {
     "data": {
      "text/html": [
       "<div>\n",
       "<style>\n",
       "    .dataframe thead tr:only-child th {\n",
       "        text-align: right;\n",
       "    }\n",
       "\n",
       "    .dataframe thead th {\n",
       "        text-align: left;\n",
       "    }\n",
       "\n",
       "    .dataframe tbody tr th {\n",
       "        vertical-align: top;\n",
       "    }\n",
       "</style>\n",
       "<table border=\"1\" class=\"dataframe\">\n",
       "  <thead>\n",
       "    <tr style=\"text-align: right;\">\n",
       "      <th></th>\n",
       "      <th>rate_marriage</th>\n",
       "      <th>age</th>\n",
       "      <th>yrs_married</th>\n",
       "      <th>children</th>\n",
       "      <th>educ</th>\n",
       "      <th>occupation_1.0</th>\n",
       "      <th>occupation_2.0</th>\n",
       "      <th>occupation_3.0</th>\n",
       "      <th>occupation_4.0</th>\n",
       "      <th>occupation_5.0</th>\n",
       "      <th>...</th>\n",
       "      <th>occupation_husb_1.0</th>\n",
       "      <th>occupation_husb_2.0</th>\n",
       "      <th>occupation_husb_3.0</th>\n",
       "      <th>occupation_husb_4.0</th>\n",
       "      <th>occupation_husb_5.0</th>\n",
       "      <th>occupation_husb_6.0</th>\n",
       "      <th>religious_1.0</th>\n",
       "      <th>religious_2.0</th>\n",
       "      <th>religious_3.0</th>\n",
       "      <th>religious_4.0</th>\n",
       "    </tr>\n",
       "  </thead>\n",
       "  <tbody>\n",
       "    <tr>\n",
       "      <th>0</th>\n",
       "      <td>3.0</td>\n",
       "      <td>32.0</td>\n",
       "      <td>9.0</td>\n",
       "      <td>3.0</td>\n",
       "      <td>17.0</td>\n",
       "      <td>0</td>\n",
       "      <td>1</td>\n",
       "      <td>0</td>\n",
       "      <td>0</td>\n",
       "      <td>0</td>\n",
       "      <td>...</td>\n",
       "      <td>0</td>\n",
       "      <td>0</td>\n",
       "      <td>0</td>\n",
       "      <td>0</td>\n",
       "      <td>1</td>\n",
       "      <td>0</td>\n",
       "      <td>0</td>\n",
       "      <td>0</td>\n",
       "      <td>1</td>\n",
       "      <td>0</td>\n",
       "    </tr>\n",
       "    <tr>\n",
       "      <th>1</th>\n",
       "      <td>3.0</td>\n",
       "      <td>27.0</td>\n",
       "      <td>13.0</td>\n",
       "      <td>3.0</td>\n",
       "      <td>14.0</td>\n",
       "      <td>0</td>\n",
       "      <td>0</td>\n",
       "      <td>1</td>\n",
       "      <td>0</td>\n",
       "      <td>0</td>\n",
       "      <td>...</td>\n",
       "      <td>0</td>\n",
       "      <td>0</td>\n",
       "      <td>0</td>\n",
       "      <td>1</td>\n",
       "      <td>0</td>\n",
       "      <td>0</td>\n",
       "      <td>1</td>\n",
       "      <td>0</td>\n",
       "      <td>0</td>\n",
       "      <td>0</td>\n",
       "    </tr>\n",
       "  </tbody>\n",
       "</table>\n",
       "<p>2 rows × 21 columns</p>\n",
       "</div>"
      ],
      "text/plain": [
       "   rate_marriage   age  yrs_married  children  educ  occupation_1.0  \\\n",
       "0            3.0  32.0          9.0       3.0  17.0               0   \n",
       "1            3.0  27.0         13.0       3.0  14.0               0   \n",
       "\n",
       "   occupation_2.0  occupation_3.0  occupation_4.0  occupation_5.0  \\\n",
       "0               1               0               0               0   \n",
       "1               0               1               0               0   \n",
       "\n",
       "       ...        occupation_husb_1.0  occupation_husb_2.0  \\\n",
       "0      ...                          0                    0   \n",
       "1      ...                          0                    0   \n",
       "\n",
       "   occupation_husb_3.0  occupation_husb_4.0  occupation_husb_5.0  \\\n",
       "0                    0                    0                    1   \n",
       "1                    0                    1                    0   \n",
       "\n",
       "   occupation_husb_6.0  religious_1.0  religious_2.0  religious_3.0  \\\n",
       "0                    0              0              0              1   \n",
       "1                    0              1              0              0   \n",
       "\n",
       "   religious_4.0  \n",
       "0              0  \n",
       "1              0  \n",
       "\n",
       "[2 rows x 21 columns]"
      ]
     },
     "execution_count": 24,
     "metadata": {},
     "output_type": "execute_result"
    }
   ],
   "source": [
    "Y = data['affair']\n",
    "X.head(2)"
   ]
  },
  {
   "cell_type": "code",
   "execution_count": 25,
   "metadata": {
    "collapsed": true
   },
   "outputs": [],
   "source": [
    "model = LogisticRegression()"
   ]
  },
  {
   "cell_type": "code",
   "execution_count": 26,
   "metadata": {},
   "outputs": [],
   "source": [
    "from sklearn.model_selection import train_test_split\n",
    "X_train, X_test, Y_train, Y_test = train_test_split(X, Y, test_size = 0.3, random_state = 0)"
   ]
  },
  {
   "cell_type": "code",
   "execution_count": 27,
   "metadata": {},
   "outputs": [
    {
     "data": {
      "text/plain": [
       "LogisticRegression(C=1.0, class_weight=None, dual=False, fit_intercept=True,\n",
       "          intercept_scaling=1, max_iter=100, multi_class='ovr', n_jobs=1,\n",
       "          penalty='l2', random_state=None, solver='liblinear', tol=0.0001,\n",
       "          verbose=0, warm_start=False)"
      ]
     },
     "execution_count": 27,
     "metadata": {},
     "output_type": "execute_result"
    }
   ],
   "source": [
    "model.fit(X_train, Y_train)"
   ]
  },
  {
   "cell_type": "code",
   "execution_count": 32,
   "metadata": {},
   "outputs": [],
   "source": [
    "predictions = model.predict_proba(X_test)"
   ]
  },
  {
   "cell_type": "code",
   "execution_count": 33,
   "metadata": {},
   "outputs": [
    {
     "data": {
      "text/plain": [
       "array([[ 0.3541677 ,  0.6458323 ],\n",
       "       [ 0.92404711,  0.07595289],\n",
       "       [ 0.72946542,  0.27053458],\n",
       "       ..., \n",
       "       [ 0.56092307,  0.43907693],\n",
       "       [ 0.81398702,  0.18601298],\n",
       "       [ 0.73570251,  0.26429749]])"
      ]
     },
     "execution_count": 33,
     "metadata": {},
     "output_type": "execute_result"
    }
   ],
   "source": [
    "predictions"
   ]
  },
  {
   "cell_type": "markdown",
   "metadata": {},
   "source": [
    "Нужен второй столбец, отвечает за affair = 1"
   ]
  },
  {
   "cell_type": "markdown",
   "metadata": {},
   "source": [
    "# Сравнение"
   ]
  },
  {
   "cell_type": "markdown",
   "metadata": {},
   "source": [
    "AUC-ROC сравнение средства sklearn и ручная программа"
   ]
  },
  {
   "cell_type": "code",
   "execution_count": 82,
   "metadata": {},
   "outputs": [
    {
     "name": "stdout",
     "output_type": "stream",
     "text": [
      "sklearn AUC-ROC area: 0.7460201461334318\n",
      "Wall time: 0 ns\n"
     ]
    }
   ],
   "source": [
    "%%time\n",
    "# встроенные стредства sklear для площади AUC-ROC\n",
    "sk = roc_auc_score(Y_test, predictions[:,1])\n",
    "print('sklearn AUC-ROC area:', format(sk))"
   ]
  },
  {
   "cell_type": "code",
   "execution_count": 83,
   "metadata": {},
   "outputs": [
    {
     "name": "stdout",
     "output_type": "stream",
     "text": [
      "my AUC-ROC area: 0.7458399764325387\n",
      "Wall time: 1.04 s\n"
     ]
    }
   ],
   "source": [
    "%%time\n",
    "# написанная вручную программа\n",
    "my = auc_roc(Y_test, predictions[:,1], 0.01)\n",
    "print('my AUC-ROC area:', format(my))"
   ]
  },
  {
   "cell_type": "code",
   "execution_count": 85,
   "metadata": {},
   "outputs": [
    {
     "name": "stdout",
     "output_type": "stream",
     "text": [
      "ошибка:  0.0001801697008930736\n"
     ]
    }
   ],
   "source": [
    "#ошибка\n",
    "print('ошибка: ', format (abs(sk - my)))"
   ]
  },
  {
   "cell_type": "markdown",
   "metadata": {},
   "source": [
    "AUC-PRC сравнение средства sklearn и ручная программа"
   ]
  },
  {
   "cell_type": "code",
   "execution_count": 87,
   "metadata": {},
   "outputs": [
    {
     "name": "stdout",
     "output_type": "stream",
     "text": [
      "sklearn AUC-PRC area: 0.5763261907254331\n",
      "Wall time: 0 ns\n"
     ]
    }
   ],
   "source": [
    "%%time\n",
    "# встроенные стредства sklear для площади AUC-PRC\n",
    "sk = average_precision_score(Y_test, predictions[:,1])\n",
    "print('sklearn AUC-PRC area:', format(sk))"
   ]
  },
  {
   "cell_type": "code",
   "execution_count": 88,
   "metadata": {},
   "outputs": [
    {
     "name": "stdout",
     "output_type": "stream",
     "text": [
      "my AUC-PRC area: 0.5737588482446592\n",
      "Wall time: 255 ms\n"
     ]
    },
    {
     "name": "stderr",
     "output_type": "stream",
     "text": [
      "C:\\Users\\blacat\\Anaconda3\\lib\\site-packages\\sklearn\\metrics\\classification.py:1135: UndefinedMetricWarning: Precision is ill-defined and being set to 0.0 due to no predicted samples.\n",
      "  'precision', 'predicted', average, warn_for)\n"
     ]
    }
   ],
   "source": [
    "%%time\n",
    "# написанная вручную программа\n",
    "my = auc_prc(Y_test, predictions[:,1], 0.01)\n",
    "print('my AUC-PRC area:', format(my))"
   ]
  },
  {
   "cell_type": "code",
   "execution_count": 89,
   "metadata": {},
   "outputs": [
    {
     "name": "stdout",
     "output_type": "stream",
     "text": [
      "ошибка:  0.0025673424807739487\n"
     ]
    }
   ],
   "source": [
    "#ошибка\n",
    "print('ошибка: ', format (abs(sk - my)))"
   ]
  },
  {
   "cell_type": "markdown",
   "metadata": {},
   "source": [
    "Значения площадей близки, функции работают корректно."
   ]
  },
  {
   "cell_type": "code",
   "execution_count": null,
   "metadata": {
    "collapsed": true
   },
   "outputs": [],
   "source": []
  }
 ],
 "metadata": {
  "kernelspec": {
   "display_name": "Python 3",
   "language": "python",
   "name": "python3"
  },
  "language_info": {
   "codemirror_mode": {
    "name": "ipython",
    "version": 3
   },
   "file_extension": ".py",
   "mimetype": "text/x-python",
   "name": "python",
   "nbconvert_exporter": "python",
   "pygments_lexer": "ipython3",
   "version": "3.6.2"
  }
 },
 "nbformat": 4,
 "nbformat_minor": 2
}
